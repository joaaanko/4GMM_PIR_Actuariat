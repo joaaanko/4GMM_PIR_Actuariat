{
 "cells": [
  {
   "cell_type": "code",
   "execution_count": 2,
   "metadata": {},
   "outputs": [
    {
     "name": "stderr",
     "output_type": "stream",
     "text": [
      "Installing package into ‘/home/peyratal/R/x86_64-pc-linux-gnu-library/4.0’\n",
      "(as ‘lib’ is unspecified)\n",
      "\n"
     ]
    }
   ],
   "source": [
    "install.packages('evir')"
   ]
  },
  {
   "cell_type": "code",
   "execution_count": 3,
   "metadata": {},
   "outputs": [
    {
     "name": "stderr",
     "output_type": "stream",
     "text": [
      "\n",
      "Attaching package: ‘ggplot2’\n",
      "\n",
      "\n",
      "The following object is masked from ‘package:evir’:\n",
      "\n",
      "    qplot\n",
      "\n",
      "\n"
     ]
    }
   ],
   "source": [
    "library(evir)\n",
    "library(ggplot2)\n",
    "data(danish)"
   ]
  },
  {
   "cell_type": "code",
   "execution_count": 4,
   "metadata": {},
   "outputs": [
    {
     "name": "stderr",
     "output_type": "stream",
     "text": [
      "\n",
      "Attaching package: ‘lubridate’\n",
      "\n",
      "\n",
      "The following objects are masked from ‘package:base’:\n",
      "\n",
      "    date, intersect, setdiff, union\n",
      "\n",
      "\n"
     ]
    }
   ],
   "source": [
    "library(lubridate)"
   ]
  },
  {
   "cell_type": "code",
   "execution_count": 5,
   "metadata": {},
   "outputs": [
    {
     "name": "stdout",
     "output_type": "stream",
     "text": [
      " num [1:2167] 1.68 2.09 1.73 1.78 4.61 ...\n",
      " - attr(*, \"times\")= POSIXt[1:2167], format: \"1980-01-03 01:00:00\" \"1980-01-04 01:00:00\" ...\n"
     ]
    }
   ],
   "source": [
    "str(danish)"
   ]
  },
  {
   "cell_type": "code",
   "execution_count": 6,
   "metadata": {},
   "outputs": [],
   "source": [
    "n = as.numeric(danish)"
   ]
  },
  {
   "cell_type": "code",
   "execution_count": 7,
   "metadata": {},
   "outputs": [
    {
     "data": {
      "text/plain": [
       "[1] \"1980-01-03 01:00:00 CET\""
      ]
     },
     "metadata": {},
     "output_type": "display_data"
    },
    {
     "data": {
      "text/html": [
       "1.68374816983895"
      ],
      "text/latex": [
       "1.68374816983895"
      ],
      "text/markdown": [
       "1.68374816983895"
      ],
      "text/plain": [
       "[1] 1.683748"
      ]
     },
     "metadata": {},
     "output_type": "display_data"
    }
   ],
   "source": [
    "attributes(danish)$times[1] # renvoie la date du premier feu\n",
    "danish[1] # renvoie le claim du "
   ]
  },
  {
   "cell_type": "code",
   "execution_count": 8,
   "metadata": {},
   "outputs": [
    {
     "data": {
      "text/plain": [
       " [1] \"1980-01-03 01:00:00 CET\" \"1980-01-04 01:00:00 CET\"\n",
       " [3] \"1980-01-05 01:00:00 CET\" \"1980-01-07 01:00:00 CET\"\n",
       " [5] \"1980-01-07 01:00:00 CET\" \"1980-01-10 01:00:00 CET\"\n",
       " [7] \"1980-01-10 01:00:00 CET\" \"1980-01-16 01:00:00 CET\"\n",
       " [9] \"1980-01-16 01:00:00 CET\" \"1980-01-19 01:00:00 CET\""
      ]
     },
     "metadata": {},
     "output_type": "display_data"
    }
   ],
   "source": [
    "head(attributes(danish)$times,10)"
   ]
  },
  {
   "cell_type": "code",
   "execution_count": 9,
   "metadata": {},
   "outputs": [],
   "source": [
    "t <- int_diff(attributes(danish)$times)"
   ]
  },
  {
   "cell_type": "code",
   "execution_count": 10,
   "metadata": {},
   "outputs": [
    {
     "data": {
      "text/plain": [
       "Time difference of -1 days"
      ]
     },
     "metadata": {},
     "output_type": "display_data"
    }
   ],
   "source": [
    "t2 <- difftime(attributes(danish)$times[1],attributes(danish)$times[2])\n",
    "t2"
   ]
  },
  {
   "cell_type": "code",
   "execution_count": 61,
   "metadata": {},
   "outputs": [
    {
     "name": "stdout",
     "output_type": "stream",
     "text": [
      "[1] 1\n"
     ]
    }
   ],
   "source": [
    "print(as.numeric(t2))"
   ]
  },
  {
   "cell_type": "code",
   "execution_count": 71,
   "metadata": {},
   "outputs": [
    {
     "name": "stdout",
     "output_type": "stream",
     "text": [
      " POSIXt[1:2167], format: \"1980-01-03 01:00:00\" \"1980-01-04 01:00:00\" \"1980-01-05 01:00:00\" ...\n"
     ]
    }
   ],
   "source": [
    "str(attributes(danish)$times)"
   ]
  },
  {
   "cell_type": "code",
   "execution_count": null,
   "metadata": {},
   "outputs": [],
   "source": []
  },
  {
   "cell_type": "code",
   "execution_count": 5,
   "metadata": {},
   "outputs": [
    {
     "data": {
      "text/html": [
       "0.53972602739726"
      ],
      "text/latex": [
       "0.53972602739726"
      ],
      "text/markdown": [
       "0.53972602739726"
      ],
      "text/plain": [
       "[1] 0.539726"
      ]
     },
     "metadata": {},
     "output_type": "display_data"
    }
   ],
   "source": [
    "vect_inter <-vector()\n",
    "for(i in 0:2166){\n",
    "    vect_inter[i] <- as.numeric(difftime(attributes(danish)$times[i+1],attributes(danish)$times[i]))\n",
    "}\n",
    "lamb = 2167/cumsum(vect_inter)[length(cumsum(vect_inter))] # On fait bien le nombre de feux sur le temps d'arrivé \n",
    "lamb"
   ]
  },
  {
   "cell_type": "code",
   "execution_count": 7,
   "metadata": {},
   "outputs": [],
   "source": [
    "ex = rexp(10000, rate = lamb) "
   ]
  },
  {
   "cell_type": "code",
   "execution_count": null,
   "metadata": {},
   "outputs": [],
   "source": []
  },
  {
   "cell_type": "code",
   "execution_count": 8,
   "metadata": {},
   "outputs": [
    {
     "data": {
      "text/html": [
       "<style>\n",
       ".list-inline {list-style: none; margin:0; padding: 0}\n",
       ".list-inline>li {display: inline-block}\n",
       ".list-inline>li:not(:last-child)::after {content: \"\\00b7\"; padding: 0 .5ex}\n",
       "</style>\n",
       "<ol class=list-inline><li>1</li><li>1</li><li>2</li><li>0</li><li>3</li><li>0</li><li>6</li><li>0</li><li>3</li><li>2</li></ol>\n"
      ],
      "text/latex": [
       "\\begin{enumerate*}\n",
       "\\item 1\n",
       "\\item 1\n",
       "\\item 2\n",
       "\\item 0\n",
       "\\item 3\n",
       "\\item 0\n",
       "\\item 6\n",
       "\\item 0\n",
       "\\item 3\n",
       "\\item 2\n",
       "\\end{enumerate*}\n"
      ],
      "text/markdown": [
       "1. 1\n",
       "2. 1\n",
       "3. 2\n",
       "4. 0\n",
       "5. 3\n",
       "6. 0\n",
       "7. 6\n",
       "8. 0\n",
       "9. 3\n",
       "10. 2\n",
       "\n",
       "\n"
      ],
      "text/plain": [
       " [1] 1 1 2 0 3 0 6 0 3 2"
      ]
     },
     "metadata": {},
     "output_type": "display_data"
    },
    {
     "data": {
      "image/png": "[encoded data removed]",
      "text/plain": [
       "Plot with title \"ecdf(ex)\""
      ]
     },
     "metadata": {
      "image/png": {
       "height": 420,
       "width": 420
      }
     },
     "output_type": "display_data"
    },
    {
     "name": "stderr",
     "output_type": "stream",
     "text": [
      "`stat_bin()` using `bins = 30`. Pick better value with `binwidth`.\n",
      "\n"
     ]
    },
    {
     "data": {
      "image/png": "[encoded data removed]",
      "text/plain": [
       "plot without title"
      ]
     },
     "metadata": {
      "image/png": {
       "height": 420,
       "width": 420
      }
     },
     "output_type": "display_data"
    },
    {
     "data": {
      "image/png": "[encoded data removed]",
      "text/plain": [
       "plot without title"
      ]
     },
     "metadata": {
      "image/png": {
       "height": 420,
       "width": 420
      }
     },
     "output_type": "display_data"
    }
   ],
   "source": [
    "head(vect_inter,10)\n",
    "\n",
    "plot(ecdf(vect_inter), ylab=\"Fn(x)\", pch = 19)\n",
    "par(new=TRUE)\n",
    "plot(ecdf(ex), ylab=\"Fn(x)\", pch = 19)\n",
    "qplot(vect_inter,geom = \"histogram\",bins=100)\n",
    "qplot(ex,geom = \"histogram\")"
   ]
  },
  {
   "cell_type": "code",
   "execution_count": 50,
   "metadata": {},
   "outputs": [
    {
     "data": {
      "text/html": [
       "<style>\n",
       ".list-inline {list-style: none; margin:0; padding: 0}\n",
       ".list-inline>li {display: inline-block}\n",
       ".list-inline>li:not(:last-child)::after {content: \"\\00b7\"; padding: 0 .5ex}\n",
       "</style>\n",
       "<ol class=list-inline><li>1.22868069569392e-06</li><li>-4.74076770747044e-07</li><li>-1.94828541566627e-07</li><li>-1.05780968489559e-06</li><li>3.5219607385574e-07</li><li>-4.74368471462537e-07</li></ol>\n"
      ],
      "text/latex": [
       "\\begin{enumerate*}\n",
       "\\item 1.22868069569392e-06\n",
       "\\item -4.74076770747044e-07\n",
       "\\item -1.94828541566627e-07\n",
       "\\item -1.05780968489559e-06\n",
       "\\item 3.5219607385574e-07\n",
       "\\item -4.74368471462537e-07\n",
       "\\end{enumerate*}\n"
      ],
      "text/markdown": [
       "1. 1.22868069569392e-06\n",
       "2. -4.74076770747044e-07\n",
       "3. -1.94828541566627e-07\n",
       "4. -1.05780968489559e-06\n",
       "5. 3.5219607385574e-07\n",
       "6. -4.74368471462537e-07\n",
       "\n",
       "\n"
      ],
      "text/plain": [
       "[1]  1.228681e-06 -4.740768e-07 -1.948285e-07 -1.057810e-06  3.521961e-07\n",
       "[6] -4.743685e-07"
      ]
     },
     "metadata": {},
     "output_type": "display_data"
    },
    {
     "data": {
      "text/plain": [
       "\n",
       "\tOne-sample Kolmogorov-Smirnov test\n",
       "\n",
       "data:  vect_inter + a\n",
       "D = 0.241, p-value < 2.2e-16\n",
       "alternative hypothesis: two-sided\n"
      ]
     },
     "metadata": {},
     "output_type": "display_data"
    }
   ],
   "source": [
    "a<-rnorm(2166,mean=0,sd=0.000001)\n",
    "head(a)\n",
    "ks.test(vect_inter+a, \"pexp\", lamb)"
   ]
  },
  {
   "cell_type": "code",
   "execution_count": 33,
   "metadata": {},
   "outputs": [],
   "source": [
    "help(ecdf)"
   ]
  },
  {
   "cell_type": "markdown",
   "metadata": {},
   "source": [
    "## Claim Analysis"
   ]
  },
  {
   "cell_type": "code",
   "execution_count": 53,
   "metadata": {},
   "outputs": [
    {
     "data": {
      "image/png": "[encoded data removed]",
      "text/plain": [
       "plot without title"
      ]
     },
     "metadata": {
      "image/png": {
       "height": 420,
       "width": 420
      }
     },
     "output_type": "display_data"
    },
    {
     "data": {
      "image/png": "[encoded data removed]",
      "text/plain": [
       "plot without title"
      ]
     },
     "metadata": {
      "image/png": {
       "height": 420,
       "width": 420
      }
     },
     "output_type": "display_data"
    }
   ],
   "source": [
    "plot(danish)\n",
    "boxplot(danish)"
   ]
  },
  {
   "cell_type": "code",
   "execution_count": null,
   "metadata": {},
   "outputs": [],
   "source": []
  },
  {
   "cell_type": "code",
   "execution_count": null,
   "metadata": {},
   "outputs": [],
   "source": []
  },
  {
   "cell_type": "code",
   "execution_count": null,
   "metadata": {},
   "outputs": [],
   "source": []
  },
  {
   "cell_type": "code",
   "execution_count": null,
   "metadata": {},
   "outputs": [],
   "source": []
  }
 ],
 "metadata": {
  "kernelspec": {
   "display_name": "R",
   "language": "R",
   "name": "ir"
  },
  "language_info": {
   "codemirror_mode": "r",
   "file_extension": ".r",
   "mimetype": "text/x-r-source",
   "name": "R",
   "pygments_lexer": "r",
   "version": "4.0.3"
  }
 },
 "nbformat": 4,
 "nbformat_minor": 4
}
