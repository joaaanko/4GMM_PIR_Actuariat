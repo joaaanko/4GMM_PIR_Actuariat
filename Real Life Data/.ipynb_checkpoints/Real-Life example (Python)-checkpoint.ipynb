{
 "cells": [
  {
   "cell_type": "code",
   "execution_count": 1,
   "metadata": {},
   "outputs": [],
   "source": [
    "import pandas as pd\n",
    "import numpy as np\n",
    "from scipy import stats\n",
    "\n",
    "import matplotlib.pyplot as plt\n",
    "from datetime import datetime\n",
    "\n"
   ]
  },
  {
   "cell_type": "code",
   "execution_count": 2,
   "metadata": {},
   "outputs": [],
   "source": [
    "# Lecture des données\n",
    "path=\"\"\n",
    "danish=pd.read_csv(path+\"danish.csv\",sep=\",\",header=0)\n",
    "\n",
    "Claims=danish[\"Claims\"]\n",
    "ClaimTimes=danish[\"ClaimTimes\"]\n",
    "N=len(Claims)\n",
    "#print (Claims)"
   ]
  },
  {
   "cell_type": "code",
   "execution_count": 3,
   "metadata": {},
   "outputs": [],
   "source": [
    "ClaimT=[]\n",
    "\n",
    "for i in range (N):\n",
    "    ClaimT += [datetime.strptime(ClaimTimes[i], '%Y-%m-%d %H:%M:%S')]\n",
    "\n",
    "differences = [t2 - t1 for t1,t2 in zip(ClaimT[:-1], ClaimT[1:])]\n",
    "Time=[i.days for i in differences]\n",
    "\n",
    "N_T=np.cumsum(Time)\n",
    "S= np.cumsum(Claims)"
   ]
  },
  {
   "cell_type": "markdown",
   "metadata": {},
   "source": [
    "Stocker l'évolution de la fortune dans un vecteur"
   ]
  },
  {
   "cell_type": "code",
   "execution_count": 4,
   "metadata": {},
   "outputs": [],
   "source": [
    "mu=np.mean(Claims)\n",
    "lamb=len(N_T)/N_T[-1]\n",
    "\n",
    "\n",
    "n=500\n",
    "ti=np.linspace(0,N-3,num=n+1)  ##problème d'indice quand on va au delà de N-3\n",
    "\n",
    "u=50\n",
    "c=2\n",
    "Fortune=[u]\n",
    "rho=lamb*mu/c\n",
    "#print(rho)\n",
    "\n",
    "i=0\n",
    "for t in ti:\n",
    "    \n",
    "    if N_T[int(t)] == N_T[int(t)+1]:\n",
    "        Fortune+= [Fortune[i]+c]\n",
    "\n",
    "    else:\n",
    "        Fortune+= [Fortune[i]-Claims[int(t)]]\n",
    "\n",
    "    i+=1\n",
    "\n"
   ]
  },
  {
   "cell_type": "markdown",
   "metadata": {},
   "source": [
    "#### Calcul des Fdr empiriques\n"
   ]
  },
  {
   "cell_type": "code",
   "execution_count": 8,
   "metadata": {},
   "outputs": [
    {
     "data": {
      "text/plain": [
       "Text(0.5, 1.0, 'Fdr time')"
      ]
     },
     "execution_count": 8,
     "metadata": {},
     "output_type": "execute_result"
    },
    {
     "data": {
      "image/png": "[encoded data removed]",
      "text/plain": [
       "<Figure size 432x288 with 1 Axes>"
      ]
     },
     "metadata": {
      "needs_background": "light"
     },
     "output_type": "display_data"
    }
   ],
   "source": [
    "# fdr pour Time (Wt)\n",
    "X1 = np.sort(Time)\n",
    "N1=len(Time)\n",
    "F1 = np.array(range(N1))/float(N1)\n",
    "\n",
    "plt.plot(X1, F1)\n",
    "plt.title('Fdr time')\n",
    "\n"
   ]
  },
  {
   "cell_type": "code",
   "execution_count": 7,
   "metadata": {},
   "outputs": [
    {
     "data": {
      "text/plain": [
       "Text(0.5, 1.0, 'Fdr Claims')"
      ]
     },
     "execution_count": 7,
     "metadata": {},
     "output_type": "execute_result"
    },
    {
     "data": {
      "image/png": "[encoded data removed]",
      "text/plain": [
       "<Figure size 432x288 with 1 Axes>"
      ]
     },
     "metadata": {
      "needs_background": "light"
     },
     "output_type": "display_data"
    }
   ],
   "source": [
    "# fdr pour Claims (Xt)\n",
    "\n",
    "X2 = np.sort(Claims)\n",
    "N2=len(Claims)\n",
    "F2 = np.array(range(N2))/float(N2)\n",
    "\n",
    "plt.plot(X2, F2)\n",
    "\n",
    "plt.title('Fdr Claims')\n"
   ]
  }
 ],
 "metadata": {
  "kernelspec": {
   "display_name": "Python 3",
   "language": "python",
   "name": "python3"
  },
  "language_info": {
   "codemirror_mode": {
    "name": "ipython",
    "version": 3
   },
   "file_extension": ".py",
   "mimetype": "text/x-python",
   "name": "python",
   "nbconvert_exporter": "python",
   "pygments_lexer": "ipython3",
   "version": "3.7.6"
  }
 },
 "nbformat": 4,
 "nbformat_minor": 4
}
