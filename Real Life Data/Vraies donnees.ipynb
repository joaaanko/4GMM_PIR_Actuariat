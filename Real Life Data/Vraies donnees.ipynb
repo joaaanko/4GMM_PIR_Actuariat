{
 "cells": [
  {
   "cell_type": "markdown",
   "metadata": {},
   "source": [
    "# Notebook Feux Danois"
   ]
  },
  {
   "cell_type": "markdown",
   "metadata": {},
   "source": [
    "Dans cette partie nous éudierons un jeu de données correspondant aux feux de forets Danois entre 1980 et 1990"
   ]
  },
  {
   "cell_type": "code",
   "execution_count": 61,
   "metadata": {},
   "outputs": [
    {
     "name": "stderr",
     "output_type": "stream",
     "text": [
      "\n",
      "Attaching package: ‘dplyr’\n",
      "\n",
      "\n",
      "The following objects are masked from ‘package:stats’:\n",
      "\n",
      "    filter, lag\n",
      "\n",
      "\n",
      "The following objects are masked from ‘package:base’:\n",
      "\n",
      "    intersect, setdiff, setequal, union\n",
      "\n",
      "\n"
     ]
    }
   ],
   "source": [
    "rm(list = ls())   # erase everything, start from scratch!\n",
    "library(evir)\n",
    "library(lubridate)\n",
    "data(danish)\n",
    "library(dplyr)\n",
    "\n",
    "#??date\n",
    "# summary(danish)\n",
    "#danish\n"
   ]
  },
  {
   "cell_type": "code",
   "execution_count": 3,
   "metadata": {},
   "outputs": [
    {
     "data": {
      "image/png": "[encoded data removed]",
      "text/plain": [
       "plot without title"
      ]
     },
     "metadata": {
      "image/png": {
       "height": 420,
       "width": 420
      }
     },
     "output_type": "display_data"
    }
   ],
   "source": [
    "plot(log(danish),type =\"h\")"
   ]
  },
  {
   "cell_type": "code",
   "execution_count": 65,
   "metadata": {},
   "outputs": [],
   "source": [
    "temps=attributes(danish)$times\n",
    "df= data.frame (danish)\n",
    "time.interval <- temps[0:2166] %--% temps[2 :  2167]\n",
    "\n",
    "time.duration <- as.duration(time.interval)\n",
    "Time= as.numeric (time.duration, \"days\")\n"
   ]
  },
  {
   "cell_type": "code",
   "execution_count": 66,
   "metadata": {},
   "outputs": [
    {
     "name": "stdout",
     "output_type": "stream",
     "text": [
      "[1] 0.539477\n"
     ]
    }
   ],
   "source": [
    "N_T= cumsum(Time)\n",
    "Lamb=length(N_T)/N_T[length(N_T)]\n",
    "print (Lamb)"
   ]
  },
  {
   "cell_type": "markdown",
   "metadata": {},
   "source": [
    "Construction du dataframe pour travailler sur les données"
   ]
  },
  {
   "cell_type": "code",
   "execution_count": 67,
   "metadata": {},
   "outputs": [],
   "source": [
    "df$T_i <- c(0,N_T)\n",
    "df$W_i <- c(Time,0)\n",
    "df$Year <- substring(temps,1,4)\n"
   ]
  },
  {
   "cell_type": "code",
   "execution_count": 81,
   "metadata": {},
   "outputs": [],
   "source": [
    "df_annee <- df%>%\n",
    "group_by(Year)%>%\n",
    "summarise(Moyenne_Feux = mean(W_i),\n",
    "         Lambda_Est = 1/mean(W_i),\n",
    "         Nombre_Feux = n())\n"
   ]
  },
  {
   "cell_type": "markdown",
   "metadata": {},
   "source": [
    "Si on suppose que le processus de comptage suit le processus de Poisson, lambda estimé par 0.5.\n",
    "On a à peu près 1 claim tous les deux jours.\n",
    "\n",
    "On veut s'assurer que ce processus suive bien une loi de Poisson. Il faut que les Wi soient des exponentielles iid de param (1/lmbda). Or on s'appersoit que le paramètre lambda ne semble pas être constant sur les 11 années !\n",
    "\n"
   ]
  },
  {
   "cell_type": "code",
   "execution_count": 82,
   "metadata": {},
   "outputs": [
    {
     "data": {
      "text/html": [
       "<table class=\"dataframe\">\n",
       "<caption>A tibble: 11 × 4</caption>\n",
       "<thead>\n",
       "\t<tr><th scope=col>Year</th><th scope=col>Moyenne_Feux</th><th scope=col>Lambda_Est</th><th scope=col>Nombre_Feux</th></tr>\n",
       "\t<tr><th scope=col>&lt;chr&gt;</th><th scope=col>&lt;dbl&gt;</th><th scope=col>&lt;dbl&gt;</th><th scope=col>&lt;int&gt;</th></tr>\n",
       "</thead>\n",
       "<tbody>\n",
       "\t<tr><td>1980</td><td>2.192771</td><td>0.4560440</td><td>166</td></tr>\n",
       "\t<tr><td>1981</td><td>2.176471</td><td>0.4594595</td><td>170</td></tr>\n",
       "\t<tr><td>1982</td><td>2.000000</td><td>0.5000000</td><td>181</td></tr>\n",
       "\t<tr><td>1983</td><td>2.372549</td><td>0.4214876</td><td>153</td></tr>\n",
       "\t<tr><td>1984</td><td>2.245399</td><td>0.4453552</td><td>163</td></tr>\n",
       "\t<tr><td>1985</td><td>1.768116</td><td>0.5655738</td><td>207</td></tr>\n",
       "\t<tr><td>1986</td><td>1.529412</td><td>0.6538462</td><td>238</td></tr>\n",
       "\t<tr><td>1987</td><td>1.615044</td><td>0.6191781</td><td>226</td></tr>\n",
       "\t<tr><td>1988</td><td>1.747619</td><td>0.5722071</td><td>210</td></tr>\n",
       "\t<tr><td>1989</td><td>1.548936</td><td>0.6456044</td><td>235</td></tr>\n",
       "\t<tr><td>1990</td><td>1.669725</td><td>0.5989011</td><td>218</td></tr>\n",
       "</tbody>\n",
       "</table>\n"
      ],
      "text/latex": [
       "A tibble: 11 × 4\n",
       "\\begin{tabular}{llll}\n",
       " Year & Moyenne\\_Feux & Lambda\\_Est & Nombre\\_Feux\\\\\n",
       " <chr> & <dbl> & <dbl> & <int>\\\\\n",
       "\\hline\n",
       "\t 1980 & 2.192771 & 0.4560440 & 166\\\\\n",
       "\t 1981 & 2.176471 & 0.4594595 & 170\\\\\n",
       "\t 1982 & 2.000000 & 0.5000000 & 181\\\\\n",
       "\t 1983 & 2.372549 & 0.4214876 & 153\\\\\n",
       "\t 1984 & 2.245399 & 0.4453552 & 163\\\\\n",
       "\t 1985 & 1.768116 & 0.5655738 & 207\\\\\n",
       "\t 1986 & 1.529412 & 0.6538462 & 238\\\\\n",
       "\t 1987 & 1.615044 & 0.6191781 & 226\\\\\n",
       "\t 1988 & 1.747619 & 0.5722071 & 210\\\\\n",
       "\t 1989 & 1.548936 & 0.6456044 & 235\\\\\n",
       "\t 1990 & 1.669725 & 0.5989011 & 218\\\\\n",
       "\\end{tabular}\n"
      ],
      "text/markdown": [
       "\n",
       "A tibble: 11 × 4\n",
       "\n",
       "| Year &lt;chr&gt; | Moyenne_Feux &lt;dbl&gt; | Lambda_Est &lt;dbl&gt; | Nombre_Feux &lt;int&gt; |\n",
       "|---|---|---|---|\n",
       "| 1980 | 2.192771 | 0.4560440 | 166 |\n",
       "| 1981 | 2.176471 | 0.4594595 | 170 |\n",
       "| 1982 | 2.000000 | 0.5000000 | 181 |\n",
       "| 1983 | 2.372549 | 0.4214876 | 153 |\n",
       "| 1984 | 2.245399 | 0.4453552 | 163 |\n",
       "| 1985 | 1.768116 | 0.5655738 | 207 |\n",
       "| 1986 | 1.529412 | 0.6538462 | 238 |\n",
       "| 1987 | 1.615044 | 0.6191781 | 226 |\n",
       "| 1988 | 1.747619 | 0.5722071 | 210 |\n",
       "| 1989 | 1.548936 | 0.6456044 | 235 |\n",
       "| 1990 | 1.669725 | 0.5989011 | 218 |\n",
       "\n"
      ],
      "text/plain": [
       "   Year Moyenne_Feux Lambda_Est Nombre_Feux\n",
       "1  1980 2.192771     0.4560440  166        \n",
       "2  1981 2.176471     0.4594595  170        \n",
       "3  1982 2.000000     0.5000000  181        \n",
       "4  1983 2.372549     0.4214876  153        \n",
       "5  1984 2.245399     0.4453552  163        \n",
       "6  1985 1.768116     0.5655738  207        \n",
       "7  1986 1.529412     0.6538462  238        \n",
       "8  1987 1.615044     0.6191781  226        \n",
       "9  1988 1.747619     0.5722071  210        \n",
       "10 1989 1.548936     0.6456044  235        \n",
       "11 1990 1.669725     0.5989011  218        "
      ]
     },
     "metadata": {},
     "output_type": "display_data"
    }
   ],
   "source": [
    "df_annee"
   ]
  },
  {
   "cell_type": "markdown",
   "metadata": {},
   "source": [
    "### Test sur la loi des W_t"
   ]
  },
  {
   "cell_type": "code",
   "execution_count": 9,
   "metadata": {},
   "outputs": [],
   "source": [
    "#Code pas très optimal mais permets de créer des Wt ou il n'y a plus de zéro\n",
    "\n",
    "N=length (Time)\n",
    "Time2=Time\n",
    "for (i in (2:N-1)){\n",
    "      if (Time[i]==0 & Time [i+1]!=0 )\n",
    "      {Time2[i]=0.5} \n",
    "    else if (Time[i]==0 & Time [i+1]==0 )\n",
    "    {Time2[i]=0.3\n",
    "        Time2[i+1]=0.3}  \n",
    "}"
   ]
  },
  {
   "cell_type": "code",
   "execution_count": 10,
   "metadata": {},
   "outputs": [
    {
     "name": "stderr",
     "output_type": "stream",
     "text": [
      "Warning message in ks.test(Time2, \"pexp\"):\n",
      "\"ties should not be present for the Kolmogorov-Smirnov test\"\n"
     ]
    },
    {
     "data": {
      "text/plain": [
       "\n",
       "\tOne-sample Kolmogorov-Smirnov test\n",
       "\n",
       "data:  Time2\n",
       "D = 0.39112, p-value < 2.2e-16\n",
       "alternative hypothesis: two-sided\n"
      ]
     },
     "metadata": {},
     "output_type": "display_data"
    },
    {
     "data": {
      "text/html": [
       "0.001"
      ],
      "text/latex": [
       "0.001"
      ],
      "text/markdown": [
       "0.001"
      ],
      "text/plain": [
       "[1] 0.001"
      ]
     },
     "metadata": {},
     "output_type": "display_data"
    }
   ],
   "source": [
    "# Les test avec Time 2: Ks test ne change pas LcKs un peu meilleur mais reste petit (0.001)\n",
    "library(KScorrect)\n",
    "\n",
    "ks.test(Time2,\"pexp\")\n",
    "\n",
    "Lc <- LcKS(Time2,cdf=\"pexp\",nreps=999)\n",
    "Lc$p.value"
   ]
  },
  {
   "cell_type": "code",
   "execution_count": 9,
   "metadata": {},
   "outputs": [
    {
     "name": "stderr",
     "output_type": "stream",
     "text": [
      "Warning message in ks.test(Time, \"pexp\", 1/mu1):\n",
      "“ties should not be present for the Kolmogorov-Smirnov test”\n"
     ]
    },
    {
     "data": {
      "text/plain": [
       "\n",
       "\tOne-sample Kolmogorov-Smirnov test\n",
       "\n",
       "data:  Time\n",
       "D = 0.241, p-value < 2.2e-16\n",
       "alternative hypothesis: two-sided\n"
      ]
     },
     "metadata": {},
     "output_type": "display_data"
    }
   ],
   "source": [
    "mu1= mean (Time) #pour s'assurer qu'on retrouve bien Lamb=1/mu1\n",
    "\n",
    "ks.test(Time,\"pexp\",1/mu1)\n",
    "#ks.exp.test(Time)#,\"pexp\",lambda=1/mu1)"
   ]
  },
  {
   "cell_type": "code",
   "execution_count": 10,
   "metadata": {},
   "outputs": [
    {
     "data": {
      "image/png": "[encoded data removed]",
      "text/plain": [
       "Plot with title “Méthode de la fonction de répartition”"
      ]
     },
     "metadata": {
      "image/png": {
       "height": 420,
       "width": 420
      }
     },
     "output_type": "display_data"
    }
   ],
   "source": [
    "###  Methode en affichant la fdr empirique\n",
    "\n",
    "plot(ecdf(Time), main = \"Méthode de la fonction de répartition\")\n",
    "curve(pexp(x, 1/mu1), add = TRUE)\n"
   ]
  },
  {
   "cell_type": "code",
   "execution_count": 6,
   "metadata": {},
   "outputs": [
    {
     "data": {
      "image/png": "[encoded data removed]",
      "text/plain": [
       "Plot with title \"Méthode de l’histogramme\""
      ]
     },
     "metadata": {
      "image/png": {
       "height": 420,
       "width": 420
      }
     },
     "output_type": "display_data"
    }
   ],
   "source": [
    "###  Version en affichant les histogrammes empirique\n",
    "hist(Time, freq = FALSE, main = \"Méthode de l’histogramme\", ylab = \"\")\n",
    "curve(dexp(x, 1/mu1), add = TRUE)"
   ]
  },
  {
   "cell_type": "markdown",
   "metadata": {},
   "source": [
    "On analyse le processus de poisson associé aux données Danish Fire afin de s'assurer que notre processus est homogène !\n",
    "\n",
    "Sous les hyothèses que les que $W_i$ sont iid et suivent un processus $Exp(\\lambda)$ nous pouvons estimer $\\widehat{\\lambda}=0.54$"
   ]
  },
  {
   "cell_type": "code",
   "execution_count": null,
   "metadata": {},
   "outputs": [],
   "source": []
  },
  {
   "cell_type": "code",
   "execution_count": null,
   "metadata": {},
   "outputs": [],
   "source": []
  },
  {
   "cell_type": "code",
   "execution_count": null,
   "metadata": {},
   "outputs": [],
   "source": []
  },
  {
   "cell_type": "code",
   "execution_count": null,
   "metadata": {},
   "outputs": [],
   "source": []
  },
  {
   "cell_type": "markdown",
   "metadata": {},
   "source": [
    "On est dans le cas Large claims, on commence par observer les données et estimer lambda"
   ]
  },
  {
   "cell_type": "code",
   "execution_count": 3,
   "metadata": {},
   "outputs": [
    {
     "data": {
      "image/png": "[encoded data removed]",
      "text/plain": [
       "Plot with title “Boxplot des différents claims”"
      ]
     },
     "metadata": {
      "image/png": {
       "height": 420,
       "width": 420
      }
     },
     "output_type": "display_data"
    }
   ],
   "source": [
    "boxplot(log(danish),main=\"Boxplot des différents claims\",outline=FALSE) #j'applique le log sur les claims\n",
    "#Calcul de la moyenne et ecart type de X\n",
    "mu=mean(danish)\n",
    "sigma= sd(danish)\n"
   ]
  },
  {
   "cell_type": "code",
   "execution_count": null,
   "metadata": {},
   "outputs": [],
   "source": []
  },
  {
   "cell_type": "code",
   "execution_count": 16,
   "metadata": {},
   "outputs": [
    {
     "data": {
      "image/png": "[encoded data removed]",
      "text/plain": [
       "plot without title"
      ]
     },
     "metadata": {
      "image/png": {
       "height": 420,
       "width": 420
      }
     },
     "output_type": "display_data"
    }
   ],
   "source": [
    "###  Il y'a possibilté de génerer directement le modèle CL avec le packge ruin\n",
    "library(ruin)\n",
    "\n",
    "\n",
    "model <- CramerLundberg(initial_capital = 10,\n",
    "premium_rate = 2,\n",
    "claim_poisson_arrival_rate = Lamb,\n",
    "claim_size_generator = rexp,\n",
    "claim_size_parameters = list(rate = 1))\n",
    "path <- simulate_path(model = model, max_time_horizon = 100)\n",
    "plot_path(path)"
   ]
  }
 ],
 "metadata": {
  "kernelspec": {
   "display_name": "R",
   "language": "R",
   "name": "ir"
  },
  "language_info": {
   "codemirror_mode": "r",
   "file_extension": ".r",
   "mimetype": "text/x-r-source",
   "name": "R",
   "pygments_lexer": "r",
   "version": "4.0.5"
  }
 },
 "nbformat": 4,
 "nbformat_minor": 4
}
