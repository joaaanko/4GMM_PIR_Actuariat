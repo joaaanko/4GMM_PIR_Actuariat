{
 "cells": [
  {
   "cell_type": "code",
   "execution_count": 1,
   "metadata": {},
   "outputs": [],
   "source": [
    "import numpy as np\n",
    "import matplotlib.pyplot as plt\n",
    "import pandas as pd\n",
    "import seaborn as sns\n",
    "from scipy.stats import norm\n",
    "from scipy.stats import pareto"
   ]
  },
  {
   "cell_type": "code",
   "execution_count": null,
   "metadata": {},
   "outputs": [],
   "source": []
  },
  {
   "cell_type": "code",
   "execution_count": null,
   "metadata": {},
   "outputs": [],
   "source": []
  },
  {
   "cell_type": "code",
   "execution_count": 73,
   "metadata": {},
   "outputs": [
    {
     "data": {
      "image/png": "[encoded data removed]",
      "text/plain": [
       "<Figure size 432x288 with 1 Axes>"
      ]
     },
     "metadata": {
      "needs_background": "light"
     },
     "output_type": "display_data"
    }
   ],
   "source": [
    "size, scale = 1000, 2\n",
    "somme = pd.Series(np.random.pareto(scale, size=size) + np.random.pareto(scale, size=size))\n",
    "pareto = pd.Series(np.random.pareto(scale, size=size))\n",
    "somme.plot.hist(grid=True, bins=50, rwidth=1,\n",
    "                   color='#607c8e')\n",
    "plt.title('Commute Times for 1,000 Commuters')\n",
    "plt.xlabel('Counts')\n",
    "plt.ylabel('Commute Time')\n",
    "plt.grid(axis='y', alpha=0.75)"
   ]
  },
  {
   "cell_type": "code",
   "execution_count": null,
   "metadata": {},
   "outputs": [],
   "source": []
  },
  {
   "cell_type": "code",
   "execution_count": null,
   "metadata": {},
   "outputs": [],
   "source": []
  },
  {
   "cell_type": "code",
   "execution_count": 109,
   "metadata": {},
   "outputs": [
    {
     "data": {
      "image/png": "[encoded data removed]",
      "text/plain": [
       "<Figure size 432x288 with 1 Axes>"
      ]
     },
     "metadata": {},
     "output_type": "display_data"
    }
   ],
   "source": [
    "N = 1000\n",
    "d = np.random.pareto(2, size=N)\n",
    "plt.hist(d, color=\"grey\", bins='auto')\n",
    "plt.xlabel(\"Mass [g] of each package\")\n",
    "plt.ylabel(\"Number of packages (N={})\".format(N))\n",
    "plt.show()"
   ]
  },
  {
   "cell_type": "code",
   "execution_count": 113,
   "metadata": {},
   "outputs": [],
   "source": [
    "d.sort("
   ]
  },
  {
   "cell_type": "code",
   "execution_count": null,
   "metadata": {},
   "outputs": [],
   "source": []
  },
  {
   "cell_type": "code",
   "execution_count": null,
   "metadata": {},
   "outputs": [],
   "source": []
  },
  {
   "cell_type": "code",
   "execution_count": 115,
   "metadata": {
    "scrolled": true
   },
   "outputs": [
    {
     "data": {
      "image/png": "[encoded data removed]",
      "text/plain": [
       "<Figure size 432x288 with 1 Axes>"
      ]
     },
     "metadata": {},
     "output_type": "display_data"
    }
   ],
   "source": [
    "\n",
    "rng = np.random.RandomState(10)  # deterministic random data\n",
    "a = np.hstack((rng.normal(size=1000),\n",
    "               rng.normal(loc=5, scale=2, size=1000)))\n",
    "_ = plt.hist(a, bins='auto')  # arguments are passed to np.histogram\n",
    "plt.title(\"Histogram with 'auto' bins\")\n",
    "plt.Text(0.5, 1.0, \"Histogram with 'auto' bins\")\n",
    "plt.show()"
   ]
  },
  {
   "cell_type": "code",
   "execution_count": 124,
   "metadata": {},
   "outputs": [
    {
     "name": "stdout",
     "output_type": "stream",
     "text": [
      "[-3.20440134 -2.43824952 -1.67209769 -0.90594587 -0.13979404  0.62635779\n",
      "  1.39250961  2.15866144  2.92481326  3.69096509  4.45711692  5.22326874\n",
      "  5.98942057  6.75557239  7.52172422  8.28787605  9.05402787  9.8201797\n",
      " 10.58633152]\n"
     ]
    }
   ],
   "source": [
    "hist, bin_edges = np.histogram(a, bins='auto',density=True)\n",
    "print(bin_edges)"
   ]
  },
  {
   "cell_type": "code",
   "execution_count": 123,
   "metadata": {},
   "outputs": [
    {
     "data": {
      "text/plain": [
       "1.0"
      ]
     },
     "execution_count": 123,
     "metadata": {},
     "output_type": "execute_result"
    }
   ],
   "source": [
    "np.sum(hist * np.diff(bin_edges))"
   ]
  },
  {
   "cell_type": "code",
   "execution_count": 139,
   "metadata": {},
   "outputs": [],
   "source": [
    "N = 1000\n",
    "d = np.random.pareto(2, size=N)\n",
    "hist, bin_edges = np.histogram(d,bins=1000, density = True)"
   ]
  },
  {
   "cell_type": "code",
   "execution_count": 140,
   "metadata": {},
   "outputs": [
    {
     "data": {
      "text/plain": [
       "1.0"
      ]
     },
     "execution_count": 140,
     "metadata": {},
     "output_type": "execute_result"
    }
   ],
   "source": [
    "np.sum(hist*np.diff(bin_edges))"
   ]
  },
  {
   "cell_type": "code",
   "execution_count": 7,
   "metadata": {},
   "outputs": [],
   "source": []
  },
  {
   "cell_type": "code",
   "execution_count": null,
   "metadata": {},
   "outputs": [],
   "source": []
  },
  {
   "cell_type": "code",
   "execution_count": null,
   "metadata": {},
   "outputs": [],
   "source": []
  },
  {
   "cell_type": "code",
   "execution_count": 6,
   "metadata": {},
   "outputs": [],
   "source": []
  },
  {
   "cell_type": "markdown",
   "metadata": {},
   "source": [
    "### Test de convergence de P(X_1 + X_2 > t) / P(X_1 > t) vers 2 "
   ]
  },
  {
   "cell_type": "code",
   "execution_count": null,
   "metadata": {},
   "outputs": [],
   "source": [
    "def get_Int(bin_edges, t): # Retourne l'indice du premier bord de bin dont la réalisation est au dessus de t\n",
    "    nb = len(bin_edges)\n",
    "    i = 0\n",
    "    done = 0\n",
    "    if t>bin_edges[-1]:\n",
    "        print(\"aucune réalisation suppérieure à t\")\n",
    "    if t <= bin_edges[-1]:\n",
    "        while done == 0 :\n",
    "            if bin_edges[i] < t: \n",
    "                i = i + 1\n",
    "            if bin_edges[i] > t:\n",
    "                done = 1 \n",
    "    return i "
   ]
  },
  {
   "cell_type": "code",
   "execution_count": null,
   "metadata": {},
   "outputs": [],
   "source": [
    "def calc_Prob(t, hist, bin_edges): #Calcule P(X>t)\n",
    "    return np.sum(hist[t:]*np.diff(bin_edges[t:]))"
   ]
  },
  {
   "cell_type": "code",
   "execution_count": 2,
   "metadata": {},
   "outputs": [],
   "source": [
    "N = 100000000\n",
    "X_1 = np.random.pareto(2, size=N)\n",
    "X_2 = np.random.pareto(2, size=N)\n",
    "hist, bin_edges = np.histogram(X_1+X_2,bins=1000, density = True)"
   ]
  },
  {
   "cell_type": "code",
   "execution_count": null,
   "metadata": {},
   "outputs": [],
   "source": []
  },
  {
   "cell_type": "code",
   "execution_count": 3,
   "metadata": {},
   "outputs": [],
   "source": [
    "X_3 = np.random.pareto(2, size=N)\n",
    "hist_1, bin_edges_1 = np.histogram(X_3,bins=1000, density = True)"
   ]
  },
  {
   "cell_type": "code",
   "execution_count": 200,
   "metadata": {},
   "outputs": [],
   "source": []
  },
  {
   "cell_type": "code",
   "execution_count": null,
   "metadata": {},
   "outputs": [],
   "source": []
  },
  {
   "cell_type": "code",
   "execution_count": 28,
   "metadata": {},
   "outputs": [],
   "source": [
    "Tfin = 2000"
   ]
  },
  {
   "cell_type": "code",
   "execution_count": 29,
   "metadata": {},
   "outputs": [],
   "source": [
    "P = np.zeros(Tfin)\n",
    "for t in range(1,Tfin,1):\n",
    "    P_Somme = calc_Prob(get_Int(bin_edges,t), hist, bin_edges)\n",
    "    P_X3 =  calc_Prob(get_Int(bin_edges_1,t), hist_1, bin_edges_1)\n",
    "    P[t] = P_Somme/P_X3\n",
    "    "
   ]
  },
  {
   "cell_type": "code",
   "execution_count": 30,
   "metadata": {},
   "outputs": [
    {
     "data": {
      "image/png": "[encoded data removed]",
      "text/plain": [
       "<Figure size 432x288 with 1 Axes>"
      ]
     },
     "metadata": {
      "needs_background": "light"
     },
     "output_type": "display_data"
    }
   ],
   "source": [
    "plt.plot(P)\n",
    "plt.grid( alpha=0.75)"
   ]
  },
  {
   "cell_type": "markdown",
   "metadata": {},
   "source": [
    "### Estimation Empirique du Coeff. de Crammer Lundberg"
   ]
  },
  {
   "cell_type": "code",
   "execution_count": 96,
   "metadata": {},
   "outputs": [],
   "source": [
    "def estime_Esp(loi = 1 , NbVar = 100000, param_W = 2, Nb_Cycles = 10, inter = 10,c = 1):\n",
    "    W = np.random.exponential(param_W, size=NbVar)\n",
    "    first = 0\n",
    "    last = first + inter\n",
    "    if loi == 0: \n",
    "        X = np.random.exponential(2, size=NbVar)\n",
    "    \n",
    "    if loi == 1:\n",
    "        X = np.random.uniform(size=NbVar)\n",
    "        \n",
    "    if loi == 2:\n",
    "        X = np.abs(np.random.normal(0,1,size=NbVar))\n",
    "    \n",
    "    def search(first, last):\n",
    "        K = np.linspace(first, last,last-first )\n",
    "        NbK = last - first\n",
    "        for i in range(NbK):\n",
    "            somme = 0\n",
    "            for j in range(NbVar):\n",
    "                somme = np.exp(K[i]*(X[j] - c*W[j]))\n",
    "            K[i] = somme/NbVar\n",
    "        return K\n",
    "    \n",
    "    def one_in(K):\n",
    "        new_first = 0\n",
    "        new_last = 1\n",
    "        for i in range(len(K)-1):\n",
    "            if K[i]<1 and K[i+1]> 1: \n",
    "                new_first = i \n",
    "                new_last = i+1\n",
    "            else :\n",
    "                new_first = len(K)\n",
    "                new_last = len(K)+inter\n",
    "        return new_first, new_last\n",
    "    \n",
    "    if Nb_Cycles == 1:\n",
    "        return search(first,last)\n",
    "    \n",
    "    if Nb_Cycles > 1:\n",
    "        for i in range(Nb_Cycles):\n",
    "            K = search(first,last)\n",
    "            first,last = one_in(K)   \n",
    "            return K\n",
    "        \n",
    "    else : return Null\n",
    "    \n",
    "\n",
    "        "
   ]
  },
  {
   "cell_type": "code",
   "execution_count": 146,
   "metadata": {},
   "outputs": [],
   "source": [
    "def estime_Esp1(loi = 1 , NbVar = 1000000, param_W = 2, first = 0, last = 2, inter=10, c = 2):\n",
    "    W = np.random.exponential(param_W, size=NbVar)\n",
    "    if loi == 0: \n",
    "        X = np.random.exponential(2, size=NbVar)\n",
    "    \n",
    "    if loi == 1:\n",
    "        X = np.random.uniform(size=NbVar)\n",
    "        \n",
    "    if loi == 2:\n",
    "        X = np.abs(np.random.normal(0,1,size=NbVar))\n",
    "    \n",
    "\n",
    "    K = np.linspace(first, last, inter )\n",
    "    K2 = np.zeros(inter)\n",
    "    for i in range(inter):\n",
    "        somme = 0\n",
    "        for j in range(NbVar):\n",
    "            somme = somme + np.exp(K[i]*(X[j] - c*W[j]))\n",
    "        K2[i] = somme/NbVar\n",
    "    plt.plot(K, K2)\n",
    "\n"
   ]
  },
  {
   "cell_type": "code",
   "execution_count": 154,
   "metadata": {},
   "outputs": [
    {
     "data": {
      "image/png": "[encoded data removed]",
      "text/plain": [
       "<Figure size 432x288 with 1 Axes>"
      ]
     },
     "metadata": {
      "needs_background": "light"
     },
     "output_type": "display_data"
    }
   ],
   "source": [
    "estime_Esp1(loi = 0 , NbVar = 100000, param_W = 2, first = 0, last = 2, inter=200, c = 2)"
   ]
  },
  {
   "cell_type": "code",
   "execution_count": null,
   "metadata": {},
   "outputs": [],
   "source": []
  },
  {
   "cell_type": "code",
   "execution_count": null,
   "metadata": {},
   "outputs": [],
   "source": []
  },
  {
   "cell_type": "code",
   "execution_count": null,
   "metadata": {},
   "outputs": [],
   "source": []
  },
  {
   "cell_type": "code",
   "execution_count": null,
   "metadata": {},
   "outputs": [],
   "source": []
  },
  {
   "cell_type": "code",
   "execution_count": null,
   "metadata": {},
   "outputs": [],
   "source": []
  },
  {
   "cell_type": "code",
   "execution_count": null,
   "metadata": {},
   "outputs": [],
   "source": []
  },
  {
   "cell_type": "code",
   "execution_count": null,
   "metadata": {},
   "outputs": [],
   "source": []
  }
 ],
 "metadata": {
  "kernelspec": {
   "display_name": "Python 3",
   "language": "python",
   "name": "python3"
  },
  "language_info": {
   "codemirror_mode": {
    "name": "ipython",
    "version": 3
   },
   "file_extension": ".py",
   "mimetype": "text/x-python",
   "name": "python",
   "nbconvert_exporter": "python",
   "pygments_lexer": "ipython3",
   "version": "3.8.5"
  }
 },
 "nbformat": 4,
 "nbformat_minor": 4
}
