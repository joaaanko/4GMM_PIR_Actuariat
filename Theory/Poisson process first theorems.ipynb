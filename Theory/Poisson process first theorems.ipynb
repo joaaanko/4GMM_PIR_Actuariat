{
 "cells": [
  {
   "cell_type": "code",
   "execution_count": 1,
   "metadata": {},
   "outputs": [],
   "source": [
    "import numpy as np\n",
    "import matplotlib.pyplot as plt\n",
    "from math import sqrt, pi, exp"
   ]
  },
  {
   "cell_type": "markdown",
   "metadata": {},
   "source": [
    "In this Notebook we will try to prove empirically the strong law of large numbers for a renewal process.\n",
    "\n",
    "The theorem is: \n",
    "\n",
    "Let $(N_t)_{t\\geq0}$ be a renewal process and $\\frac{1}{\\lambda}:=\\mathbb{E}[W_1]<\\infty$\n",
    "Then, $$\\lim_{t\\to\\infty} \\frac{N_t}{t}=\\lambda$$\n",
    "\n",
    "As a first step, let's try to simulate multiple versions of renewal processes. We will set an upper limit to $t$ at 50 in order to visualize the increments better."
   ]
  },
  {
   "cell_type": "code",
   "execution_count": 2,
   "metadata": {},
   "outputs": [
    {
     "data": {
      "image/png": "[encoded data removed]",
      "text/plain": [
       "<Figure size 432x288 with 1 Axes>"
      ]
     },
     "metadata": {
      "needs_background": "light"
     },
     "output_type": "display_data"
    }
   ],
   "source": [
    "t = 50\n",
    "# Let's try with multiple values of lambda.\n",
    "lambdas = [1, 2, 5]\n",
    "# These are the numpy arrays in which are stored the values of the renewel processes.\n",
    "N_T = [np.random.poisson(lam, size=t) for lam in lambdas]\n",
    "# cumulative sums for renewal processes for different values of lambda\n",
    "S = [[np.sum(n[0:i]) for i in range(t)] for n in N_T]\n",
    "# x axis\n",
    "X = np.linspace(0, t, t)\n",
    "graphs = [plt.step(X, S[i], label=r\"$\\lambda$ = %d\" % lambdas[i])[0]\n",
    "          for i in range(len(lambdas))]\n",
    "plt.legend(handles=graphs, loc=2)\n",
    "# plt.title(\"Poisson Process for varying lambda\")\n",
    "plt.ylim(0)\n",
    "plt.xlim(0)\n",
    "plt.show()"
   ]
  },
  {
   "cell_type": "code",
   "execution_count": 3,
   "metadata": {},
   "outputs": [
    {
     "name": "stdout",
     "output_type": "stream",
     "text": [
      "[0, 3, 8, 11, 18, 24, 27, 32, 36, 41, 48, 51, 54, 57, 65, 74, 77, 80, 88, 92, 94, 99, 103, 108, 113, 115, 120, 127, 133, 133, 136, 140, 145, 149, 154, 159, 163, 169, 175, 181, 187, 194, 199, 207, 211, 222, 227, 231, 239, 242]\n"
     ]
    }
   ],
   "source": [
    "print(S[2])"
   ]
  },
  {
   "cell_type": "markdown",
   "metadata": {},
   "source": [
    "Let's take for instance $\\lambda = 5$. Let's also remove the condition on the upper limit of $t$ and make it go to a much higher number, let's say 100000."
   ]
  },
  {
   "cell_type": "code",
   "execution_count": 4,
   "metadata": {},
   "outputs": [
    {
     "data": {
      "image/png": "[encoded data removed]",
      "text/plain": [
       "<Figure size 432x288 with 1 Axes>"
      ]
     },
     "metadata": {
      "needs_background": "light"
     },
     "output_type": "display_data"
    }
   ],
   "source": [
    "t = 100000\n",
    "# Let's try with multiple values of lambda.\n",
    "lambdas = [1, 2, 5]\n",
    "# These are the numpy arrays in which are stored the values of the renewel processes.\n",
    "N_T = [np.random.poisson(lam, size=t) for lam in lambdas]\n",
    "# cumulative sums for renewal processes for different values of lambda\n",
    "S = [[np.sum(n[0:i]) for i in range(t)] for n in N_T]\n",
    "# x axis\n",
    "X = np.linspace(0, t, t)\n",
    "plt.step(X, S[-1])\n",
    "plt.title(\"Poisson Process for lambda=5\")\n",
    "plt.ylim(0)\n",
    "plt.xlim(0)\n",
    "plt.show()"
   ]
  },
  {
   "cell_type": "markdown",
   "metadata": {},
   "source": [
    "We can see that the curve looks like a straight line. We know that if we take a closer look, it looks more random."
   ]
  },
  {
   "cell_type": "code",
   "execution_count": 5,
   "metadata": {},
   "outputs": [
    {
     "name": "stdout",
     "output_type": "stream",
     "text": [
      "The value of N_t/t equals: 5.00894\n",
      "t=100000\n"
     ]
    }
   ],
   "source": [
    "print(\"The value of N_t/t equals: \"+str(S[-1][-1]/t))\n",
    "print(\"t=\"+str(t))"
   ]
  },
  {
   "cell_type": "markdown",
   "metadata": {},
   "source": [
    "Second version of Poisson process generation that returns $T$ the vector of the differents claim times and $n$ the number of occurences before time limit $t$"
   ]
  },
  {
   "cell_type": "code",
   "execution_count": 6,
   "metadata": {},
   "outputs": [],
   "source": [
    "def poiss (t,lamb):\n",
    "    T0=0\n",
    "    T=[] \n",
    "    Ti=T0\n",
    "    \n",
    "    while Ti < t:\n",
    "        T+=[Ti]\n",
    "        u=np.random.uniform()\n",
    "        e=-(np.log(u)/lamb)\n",
    "        Ti+=e # the interarrival times has a en exponential distribution\n",
    "       \n",
    "    n=len (T)\n",
    "    return (T,n)\n"
   ]
  },
  {
   "cell_type": "code",
   "execution_count": 7,
   "metadata": {},
   "outputs": [],
   "source": [
    "def poiss2 (t,lamb):\n",
    "    #Calcul du Nt \n",
    "    n = np.random.poisson(lamb*t)\n",
    "    U=np.random.uniform(0,t,n)\n",
    "    T=sorted (U)\n",
    "    return T,n"
   ]
  },
  {
   "cell_type": "code",
   "execution_count": 8,
   "metadata": {},
   "outputs": [
    {
     "name": "stdout",
     "output_type": "stream",
     "text": [
      "[0, 1.8310972886480719]\n",
      "2\n",
      "[0.02682173678994415, 0.23899776922461413, 1.6481328102472401]\n",
      "3\n"
     ]
    }
   ],
   "source": [
    "## Test\n",
    "lam=2\n",
    "t=2\n",
    "T,n=poiss (t,lam)\n",
    "print (T) \n",
    "print (n)\n",
    "T2,n2 =poiss2(t,lam)\n",
    "print (T2)\n",
    "print(n2)"
   ]
  },
  {
   "cell_type": "code",
   "execution_count": 9,
   "metadata": {},
   "outputs": [],
   "source": [
    "def conv (lamb,L):\n",
    "    \n",
    "    N=[]\n",
    "    for t in L:\n",
    "        T,n=poiss(t,lamb)\n",
    "        N+= [n/t]\n",
    "    plt.plot (L,N) #valeur empirique\n",
    "    plt.plot(L,lamb*np.ones(len(L))) # valeur théorique\n",
    "    plt.title(\"Convergence Nt/t-> lambda\")\n",
    "    plt.show()\n",
    "    \n",
    "    return N"
   ]
  },
  {
   "cell_type": "code",
   "execution_count": 10,
   "metadata": {},
   "outputs": [
    {
     "data": {
      "image/png": "[encoded data removed]",
      "text/plain": [
       "<Figure size 432x288 with 1 Axes>"
      ]
     },
     "metadata": {
      "needs_background": "light"
     },
     "output_type": "display_data"
    }
   ],
   "source": [
    "L=np.linspace (1,10000,50)\n",
    "vect_N=conv(6,L)"
   ]
  },
  {
   "cell_type": "markdown",
   "metadata": {},
   "source": [
    "We can know focus on the second point of the theorem 1.5 (relying on the central limit theorem) \n",
    "Let  $\\sigma^2= Var(W_i)<\\infty $.\n",
    "\n",
    "Then $\\frac{N_t-\\lambda t}{\\sqrt{\\sigma^2 \\lambda^3 t}}  \\xrightarrow{\\text{d}} Y$  where $Y \\overset{d}{=} N(0,1)\n",
    "$ "
   ]
  },
  {
   "cell_type": "code",
   "execution_count": 11,
   "metadata": {},
   "outputs": [
    {
     "data": {
      "image/png": "[encoded data removed]",
      "text/plain": [
       "<Figure size 432x288 with 1 Axes>"
      ]
     },
     "metadata": {
      "needs_background": "light"
     },
     "output_type": "display_data"
    }
   ],
   "source": [
    "# define W\n",
    "# lamb = 5\n",
    "# t = 500\n",
    "\n",
    "# def interarrival_times(lamb, n):\n",
    "#     W = np.random.exponential(1/lamb, size=n)\n",
    "#     return W\n",
    "\n",
    "# #define T_n\n",
    "# def renewal_sequence(W):\n",
    "#     T_n = np.zeros(len(W))\n",
    "#     for i in range(1,len(W)):\n",
    "#         T_n[i] = T_n[i-1]+W[i]\n",
    "#     return T_n\n",
    "\n",
    "# W = interarrival_times(lamb,t)\n",
    "# print(W)\n",
    "# T_n = renewal_sequence(W)\n",
    "# print(T_n)\n",
    "t = 100000\n",
    "lamb = 5\n",
    "N_t = np.random.poisson(lamb, size=t)\n",
    "sigma2 = lamb**2\n",
    "Y = np.zeros(len(N_t))\n",
    "for t in range(1,len(N_t)):\n",
    "    Y[t] = (N_t[t]-lamb*t)/np.sqrt(sigma2*lamb**3*t)\n",
    "tt=np.linspace(min(X),max(X))\n",
    "normal=[1/(sqrt(2*pi*1**2)) * exp(-((x)**2))/(2*1**2) for x in tt] #la loi N(0,1)\n",
    "plt.plot(tt,normal,label='Theorical distribution')\n",
    "plt.hist(X,bins=100,density=True,label='Empirical distribution') \n",
    "plt.legend()\n",
    "plt.show()\n",
    "\n",
    "        "
   ]
  },
  {
   "cell_type": "code",
   "execution_count": null,
   "metadata": {},
   "outputs": [],
   "source": []
  },
  {
   "cell_type": "code",
   "execution_count": 12,
   "metadata": {},
   "outputs": [],
   "source": [
    "def conv2 (lamb, sigm, L):\n",
    "    \n",
    "    X=[]\n",
    "    for n in range (10000): #a t fixé on génère 30 poissons\n",
    "        T,n=poiss(t,lamb)\n",
    "        X+=[(n-lamb*t)/np.sqrt((sigm**2)*(lamb**3)*t)]       \n",
    "    plt.hist(X,bins=30,density=True,label='Empirical distribution') \n",
    "    tt=np.linspace(min(X),max(X))\n",
    "    normal=[1/(sqrt(2*pi*1**2)) * exp(-((x)**2))/(2*1**2) for x in tt] #la loi N(0,1)\n",
    "    plt.plot(tt,normal,label='Theorical distribution')\n",
    "    plt.legend()\n",
    "#     plt.title(\"Convergence en loi vers N(0,1)\")\n",
    "    plt.show()\n",
    "    return X"
   ]
  },
  {
   "cell_type": "markdown",
   "metadata": {},
   "source": [
    "Le test suivant est un peu long a faire tourner, je l'avais donc tester pour 10 valeurs de $t$ les sorties sont stockées dans le dossier \"cv en loi\"."
   ]
  },
  {
   "cell_type": "code",
   "execution_count": null,
   "metadata": {},
   "outputs": [],
   "source": [
    "L = 100_000\n",
    "\n",
    "X=conv2(3,1/9,L)\n"
   ]
  },
  {
   "cell_type": "markdown",
   "metadata": {},
   "source": [
    "Commentaires: Ce qu'on trace ici ce sont les 3 histogrammes pour 3 valeurs du temps final $t$ (la plus grande étant $t=100000$).Pour chacun de ces temps, on génère 30 poissons aléatoirement"
   ]
  }
 ],
 "metadata": {
  "kernelspec": {
   "display_name": "Python 3",
   "language": "python",
   "name": "python3"
  },
  "language_info": {
   "codemirror_mode": {
    "name": "ipython",
    "version": 3
   },
   "file_extension": ".py",
   "mimetype": "text/x-python",
   "name": "python",
   "nbconvert_exporter": "python",
   "pygments_lexer": "ipython3",
   "version": "3.8.8"
  },
  "latex_envs": {
   "LaTeX_envs_menu_present": true,
   "autoclose": false,
   "autocomplete": true,
   "bibliofile": "biblio.bib",
   "cite_by": "apalike",
   "current_citInitial": 1,
   "eqLabelWithNumbers": true,
   "eqNumInitial": 1,
   "hotkeys": {
    "equation": "Ctrl-E",
    "itemize": "Ctrl-I"
   },
   "labels_anchors": false,
   "latex_user_defs": false,
   "report_style_numbering": false,
   "user_envs_cfg": false
  },
  "toc": {
   "base_numbering": 1,
   "nav_menu": {},
   "number_sections": true,
   "sideBar": true,
   "skip_h1_title": false,
   "title_cell": "Table of Contents",
   "title_sidebar": "Contents",
   "toc_cell": false,
   "toc_position": {},
   "toc_section_display": true,
   "toc_window_display": false
  }
 },
 "nbformat": 4,
 "nbformat_minor": 4
}
