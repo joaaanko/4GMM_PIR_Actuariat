{
 "cells": [
  {
   "cell_type": "code",
   "execution_count": 1,
   "metadata": {},
   "outputs": [],
   "source": [
    "import numpy as np\n",
    "import matplotlib.pyplot as plt\n",
    "from math import sqrt, pi, exp"
   ]
  },
  {
   "cell_type": "markdown",
   "metadata": {},
   "source": [
    "In this Notebook we will try to prove empirically the strong law of large numbers for a renewal process.\n",
    "\n",
    "The theorem is: \n",
    "\n",
    "Let $(N_t)_{t\\geq0}$ be a renewal process and $\\frac{1}{\\lambda}:=\\mathbb{E}[W_1]<\\infty$\n",
    "Then, $$\\lim_{t\\to\\infty} \\frac{N_t}{t}=\\lambda$$\n",
    "\n",
    "As a first step, let's try to simulate multiple versions of renewal processes. We will set an upper limit to $t$ at 50 in order to visualize the increments better."
   ]
  },
  {
   "cell_type": "code",
   "execution_count": 2,
   "metadata": {},
   "outputs": [
    {
     "data": {
      "image/png": "[encoded data removed]",
      "text/plain": [
       "<Figure size 432x288 with 1 Axes>"
      ]
     },
     "metadata": {
      "needs_background": "light"
     },
     "output_type": "display_data"
    }
   ],
   "source": [
    "t = 50\n",
    "# Let's try with multiple values of lambda.\n",
    "lambdas = [1, 2, 5]\n",
    "# These are the numpy arrays in which are stored the values of the renewel processes.\n",
    "N_T = [np.random.poisson(lam, size=t) for lam in lambdas]\n",
    "# cumulative sums for renewal processes for different values of lambda\n",
    "S = [[np.sum(n[0:i]) for i in range(t)] for n in N_T]\n",
    "# x axis\n",
    "X = np.linspace(0, t, t)\n",
    "graphs = [plt.step(X, S[i], label=\"Lambda = %d\" % lambdas[i])[0]\n",
    "          for i in range(len(lambdas))]\n",
    "plt.legend(handles=graphs, loc=2)\n",
    "plt.title(\"Poisson Process for varying lambda\")\n",
    "plt.ylim(0)\n",
    "plt.xlim(0)\n",
    "plt.show()"
   ]
  },
  {
   "cell_type": "markdown",
   "metadata": {},
   "source": [
    "Let's take for instance $\\lambda = 5$. Let's also remove the condition on the upper limit of $t$ and make it go to a much higher number, let's say 100000."
   ]
  },
  {
   "cell_type": "code",
   "execution_count": 3,
   "metadata": {},
   "outputs": [
    {
     "data": {
      "image/png": "[encoded data removed]",
      "text/plain": [
       "<Figure size 432x288 with 1 Axes>"
      ]
     },
     "metadata": {
      "needs_background": "light"
     },
     "output_type": "display_data"
    }
   ],
   "source": [
    "t = 100000\n",
    "# Let's try with multiple values of lambda.\n",
    "lambdas = [1, 2, 5]\n",
    "# These are the numpy arrays in which are stored the values of the renewel processes.\n",
    "N_T = [np.random.poisson(lam, size=t) for lam in lambdas]\n",
    "# cumulative sums for renewal processes for different values of lambda\n",
    "S = [[np.sum(n[0:i]) for i in range(t)] for n in N_T]\n",
    "# x axis\n",
    "X = np.linspace(0, t, t)\n",
    "plt.step(X, S[-1])\n",
    "plt.title(\"Poisson Process for lambda=5\")\n",
    "plt.ylim(0)\n",
    "plt.xlim(0)\n",
    "plt.show()"
   ]
  },
  {
   "cell_type": "markdown",
   "metadata": {},
   "source": [
    "We can see that the curve looks like a straight line. We know that if we take a closer look, it looks more random."
   ]
  },
  {
   "cell_type": "code",
   "execution_count": 4,
   "metadata": {},
   "outputs": [
    {
     "name": "stdout",
     "output_type": "stream",
     "text": [
      "The value of N_t/t equals: 5.006\n",
      "t=100000\n"
     ]
    }
   ],
   "source": [
    "print(\"The value of N_t/t equals: \"+str(S[-1][-1]/t))\n",
    "print(\"t=\"+str(t))"
   ]
  },
  {
   "cell_type": "markdown",
   "metadata": {},
   "source": [
    "Second version of Poisson process generation that returns $T$ the vector of the differents claim times and $n$ the number of occurences before time limit $t$"
   ]
  },
  {
   "cell_type": "code",
   "execution_count": 5,
   "metadata": {},
   "outputs": [],
   "source": [
    "def poiss (t,lamb):\n",
    "    T0=0\n",
    "    T=[] \n",
    "    Ti=T0\n",
    "    \n",
    "    while Ti < t:\n",
    "        T+=[Ti]\n",
    "        u=np.random.uniform()\n",
    "        e=-(np.log(u)/lamb)\n",
    "        Ti+=e # the interarrival times has a en exponential distribution\n",
    "       \n",
    "    n=len (T)\n",
    "    return (T,n)\n"
   ]
  },
  {
   "cell_type": "code",
   "execution_count": 6,
   "metadata": {},
   "outputs": [],
   "source": [
    "def poiss2 (t,lamb):\n",
    "    #Calcul du Nt \n",
    "    n = np.random.poisson(lamb*t)\n",
    "    U=np.random.uniform(0,t,n)\n",
    "    T=sorted (U)\n",
    "    return T,n"
   ]
  },
  {
   "cell_type": "code",
   "execution_count": 7,
   "metadata": {},
   "outputs": [
    {
     "name": "stdout",
     "output_type": "stream",
     "text": [
      "[0, 0.00011563063510146193, 0.12132977973478376, 0.5033339535389469, 1.1943167046132703, 1.5115648441354004, 1.8364432931250634]\n",
      "7\n",
      "[1.2208989245878519, 1.321168590603903, 1.5804420046246284, 1.651146570355223, 1.9407855329209023]\n",
      "5\n"
     ]
    }
   ],
   "source": [
    "## Test\n",
    "lam=2\n",
    "t=2\n",
    "T,n=poiss (t,lam)\n",
    "print (T) \n",
    "print (n)\n",
    "T2,n2 =poiss2(t,lam)\n",
    "print (T2)\n",
    "print(n2)"
   ]
  },
  {
   "cell_type": "code",
   "execution_count": 8,
   "metadata": {},
   "outputs": [],
   "source": [
    "def conv (lamb,L):\n",
    "    \n",
    "    N=[]\n",
    "    for t in L:\n",
    "        T,n=poiss(t,lamb)\n",
    "        N+= [n/t]\n",
    "    plt.plot (L,N) #valeur empirique\n",
    "    plt.plot(L,lamb*np.ones(len(L))) # valeur théorique\n",
    "    plt.title(\"Convergence Nt/t-> lambda\")\n",
    "    plt.show()\n",
    "    \n",
    "    return N"
   ]
  },
  {
   "cell_type": "code",
   "execution_count": 9,
   "metadata": {},
   "outputs": [
    {
     "data": {
      "image/png": "[encoded data removed]",
      "text/plain": [
       "<Figure size 432x288 with 1 Axes>"
      ]
     },
     "metadata": {
      "needs_background": "light"
     },
     "output_type": "display_data"
    }
   ],
   "source": [
    "L=np.linspace (1,10000,50)\n",
    "vect_N=conv(6,L)"
   ]
  },
  {
   "cell_type": "markdown",
   "metadata": {},
   "source": [
    "We can know focus on the second point of the theorem 1.5 (relying on the central limit theorem) \n",
    "Let  $\\sigma^2= Var(W_i)<\\infty $.\n",
    "\n",
    "Then $\\frac{N_t-\\lambda t}{\\sqrt{\\sigma^2 \\lambda^3 t}}  \\xrightarrow{\\text{d}} Y$  where $Y \\overset{d}{=} N(0,1)\n",
    "$ "
   ]
  },
  {
   "cell_type": "code",
   "execution_count": 40,
   "metadata": {},
   "outputs": [
    {
     "name": "stdout",
     "output_type": "stream",
     "text": [
      "[2.67675774e-01 5.89382816e-01 6.46526309e-03 1.22539839e-01\n",
      " 9.34738902e-02 2.54804791e-01 1.87080417e-01 2.30169419e-02\n",
      " 1.09780502e-01 9.85697921e-02 2.26431036e-01 6.72430188e-01\n",
      " 1.25609526e-01 2.25390186e-02 6.42066629e-01 3.60749355e-02\n",
      " 5.80377568e-02 8.88211263e-02 2.13809651e-01 2.44619330e-01\n",
      " 1.22925930e-01 8.13967511e-02 1.82598124e-01 7.96670585e-02\n",
      " 1.19857466e-01 1.84499224e-02 7.00180029e-02 2.68370288e-01\n",
      " 1.18661747e-01 3.94672159e-02 7.05919816e-01 1.65549373e-02\n",
      " 8.79941980e-02 4.99751850e-01 1.49725377e-01 2.10992649e-01\n",
      " 7.81445883e-02 1.56261461e-01 1.12220459e-01 1.03361645e-01\n",
      " 2.38658564e-02 3.13322983e-01 5.87112919e-02 5.94073578e-01\n",
      " 4.29144757e-02 2.17522769e-02 5.93345740e-01 1.61841765e-01\n",
      " 2.46613142e-01 2.97133843e-01 1.40335333e-01 8.22829822e-02\n",
      " 1.07190443e-01 1.04800020e-01 9.19930177e-02 6.23539768e-02\n",
      " 6.26105626e-02 1.03858528e-01 3.62026428e-01 3.88676469e-02\n",
      " 2.32476453e-01 1.61992080e-02 2.59085357e-02 1.30923591e-01\n",
      " 3.89559553e-01 4.98806015e-03 6.98827501e-03 9.57644620e-03\n",
      " 1.11134666e-01 3.36389380e-01 3.84237639e-01 2.05274781e-01\n",
      " 7.89939383e-01 3.44420143e-01 4.56506317e-02 7.55183598e-03\n",
      " 2.79009316e-01 4.28042126e-02 3.53993509e-01 5.10587800e-01\n",
      " 8.05185951e-03 6.03083543e-02 5.35040815e-02 6.61887831e-02\n",
      " 1.68187435e-01 7.90470361e-02 1.22143785e-01 7.17603194e-03\n",
      " 3.68738047e-01 6.95310552e-02 2.90940096e-02 8.21425391e-03\n",
      " 5.68122146e-02 6.12078123e-01 8.06553430e-03 1.02752792e-02\n",
      " 2.69039195e-01 1.39981077e-01 2.31515026e-01 1.25448996e-01\n",
      " 6.13109051e-02 3.94098614e-02 3.20222275e-01 1.73318930e-01\n",
      " 9.10333338e-01 1.62069819e-02 3.09258899e-01 2.17020349e-02\n",
      " 8.37565512e-02 1.67433788e-01 1.10301526e-02 1.53627966e-01\n",
      " 2.81378938e-01 3.32763726e-01 2.17880755e-01 5.95913674e-02\n",
      " 2.12518785e-02 2.88883892e-02 2.45915144e-01 5.72150089e-01\n",
      " 9.40476927e-02 6.34718893e-01 8.98387590e-02 1.85966636e-01\n",
      " 4.78115364e-01 1.25870709e-01 2.84416265e-01 2.13599525e-01\n",
      " 3.99284924e-01 7.48006535e-03 8.62177962e-01 7.02980928e-02\n",
      " 8.57149395e-02 3.39241747e-01 1.13699296e-02 1.54322753e-02\n",
      " 2.83172883e-02 1.96322785e-03 1.96609244e-02 7.12483705e-02\n",
      " 1.54297494e-02 1.20525807e-01 2.84124838e-03 1.55928967e-01\n",
      " 2.20359963e-02 4.99711977e-02 2.07742109e-01 1.40834519e-01\n",
      " 2.95219579e-01 2.87169117e-01 1.59602202e-01 9.17510829e-02\n",
      " 2.35823847e-01 1.59360651e-02 1.17919284e-01 5.98981277e-01\n",
      " 7.20149434e-03 6.40414515e-02 1.72408823e-04 1.03036493e-01\n",
      " 2.07208348e-02 2.43762469e-01 3.40734432e-01 7.18498674e-01\n",
      " 1.78986013e-01 1.56712216e-01 3.10468378e-01 6.13274267e-02\n",
      " 3.66171936e-02 2.25000320e-02 4.80596991e-01 2.03526788e-01\n",
      " 1.17922050e-01 1.77998086e-01 7.74498141e-01 3.03026659e-01\n",
      " 6.34826222e-02 1.47216953e+00 2.10899552e-02 1.69916565e-01\n",
      " 2.42264771e-01 2.02776673e-02 8.71244050e-02 4.45730563e-02\n",
      " 6.76987760e-01 2.33953760e-01 4.92509959e-03 6.22049031e-02\n",
      " 3.22175609e-02 4.30714200e-01 1.71530116e-02 5.26988781e-02\n",
      " 3.87992391e-01 3.28206944e-01 2.49418376e-01 5.02582928e-01\n",
      " 5.06701616e-02 1.37475596e-01 4.49565721e-01 3.53021834e-01\n",
      " 3.95541796e-02 9.05951383e-01 8.47856599e-02 2.24895669e-01\n",
      " 3.96542904e-02 5.97262491e-02 2.67232726e-01 7.77495055e-02\n",
      " 7.22187667e-02 4.07403515e-01 5.87848673e-02 2.96878037e-02\n",
      " 3.09851926e-01 3.03217712e-01 6.42178904e-01 3.82673495e-01\n",
      " 1.68786407e-01 5.92331386e-01 1.71253142e-01 2.23729764e-02\n",
      " 3.22864096e-01 8.28362566e-01 3.04715960e-01 4.33197090e-01\n",
      " 1.46641265e-01 4.63647707e-01 1.54607771e-03 2.90236895e-02\n",
      " 5.63627064e-02 4.36873064e-01 1.50692087e-01 2.32040170e-01\n",
      " 1.65003234e-01 1.32178666e-01 2.59451015e-01 6.57182870e-01\n",
      " 1.97612968e-01 1.66607303e-02 1.15602834e-03 1.04017532e+00\n",
      " 8.45131878e-03 1.88965710e-01 5.96452360e-01 1.09352466e-02\n",
      " 5.32905327e-01 7.57330617e-01 9.65897363e-02 4.38288401e-01\n",
      " 7.09577359e-01 4.04517154e-02 5.71501264e-02 1.10810190e-01\n",
      " 1.50481602e-01 2.95576008e-01 1.48801380e-02 2.70340466e-01\n",
      " 1.53809108e-01 2.24275386e-01 7.88983453e-01 2.71571660e-01\n",
      " 3.33397153e-01 8.84020748e-02 8.48226399e-02 5.22643555e-02\n",
      " 5.46086196e-01 3.47121333e-01 2.04991103e-01 6.43181486e-01\n",
      " 2.78913371e-01 2.68525985e-01 1.35101780e-01 2.79434101e-01\n",
      " 1.77719240e-02 4.41796680e-01 4.12063545e-01 1.14779907e-01\n",
      " 3.10259388e-01 8.41875129e-02 6.52806925e-01 2.87206942e-01\n",
      " 9.35023543e-02 1.39539915e-01 1.26866610e-01 2.89363585e-01\n",
      " 4.27010123e-01 8.16872494e-01 2.36091383e-01 2.18112614e-02\n",
      " 2.34673691e-01 6.05714718e-02 1.14769633e-02 2.52616273e-01\n",
      " 3.45822919e-01 1.69498192e-01 6.96013333e-02 7.94602397e-02\n",
      " 3.11647434e-01 2.60166080e-01 1.97143944e-02 2.36831475e-01\n",
      " 4.40057409e-01 1.76976180e-01 3.96506930e-01 3.16825358e-01\n",
      " 9.83352622e-02 3.70646628e-03 2.99006425e-01 2.08980906e-02\n",
      " 2.29876995e-04 3.41968246e-01 2.95578739e-01 1.64400289e-01\n",
      " 4.08511587e-02 6.30420605e-02 2.94668531e-01 1.72332393e-01\n",
      " 1.74283958e-02 2.60501362e-01 5.80238404e-01 4.98688207e-01\n",
      " 4.16887869e-01 6.49171718e-02 1.40612728e-02 5.32652395e-02\n",
      " 9.88339097e-02 9.58480850e-02 7.36517416e-02 4.28774340e-01\n",
      " 4.79110051e-01 2.79831959e-01 2.34283021e-01 4.39531447e-01\n",
      " 1.07842195e-01 1.28738840e-01 3.90635265e-01 1.50764877e-01\n",
      " 2.11900118e-01 3.07521308e-01 1.87295995e-01 3.26862373e-01\n",
      " 1.61013117e-01 1.51302335e-01 3.30147791e-02 3.54228250e-02\n",
      " 7.96109857e-03 1.73472332e-01 2.12066530e-01 5.73981765e-01\n",
      " 1.48055901e-01 8.06979074e-02 1.72995922e-01 3.90638066e-02\n",
      " 2.12618730e-02 1.20654223e-01 2.27013879e-01 1.61631702e-02\n",
      " 3.78994135e-01 1.05271516e-01 2.67494310e-01 1.63463929e-01\n",
      " 3.91481228e-01 5.50961432e-02 2.95211840e-01 5.40935969e-01\n",
      " 3.16156097e-02 3.13778646e-01 1.40111160e-01 4.27331782e-01\n",
      " 5.01347982e-02 2.05846768e-02 3.99215648e-02 1.36114674e-01\n",
      " 1.66369162e-01 3.09586077e-01 4.42127192e-01 1.86865646e-01\n",
      " 1.61825354e-01 3.05327263e-01 1.79263062e-01 2.19194651e-01\n",
      " 4.84954979e-02 4.37150080e-01 8.28455390e-02 3.27440171e-02\n",
      " 9.89166474e-01 6.52175541e-01 4.91285104e-01 3.88994282e-02\n",
      " 2.65854073e-01 2.45028456e-02 4.96132908e-02 3.69846266e-01\n",
      " 9.03359870e-02 1.54033841e-01 6.15507845e-02 9.64033661e-02\n",
      " 1.55613750e-01 4.63942367e-02 3.45548203e-01 7.64911955e-01\n",
      " 1.89338045e-01 7.53997822e-02 3.10298269e-01 1.47340363e-01\n",
      " 9.65073122e-02 3.42173556e-01 4.38170871e-02 7.97255376e-02\n",
      " 1.06020879e-01 6.40116797e-02 6.78024740e-02 3.95451480e-02\n",
      " 1.54120628e-02 2.23003224e-01 6.32402433e-02 6.47939524e-01\n",
      " 1.38292503e-01 6.90827976e-02 5.23869830e-01 4.66057337e-01\n",
      " 2.14391021e-02 1.09519652e-01 5.72037423e-01 2.86444414e-01\n",
      " 7.77193812e-03 6.96081263e-02 6.51149585e-03 7.94186118e-02\n",
      " 1.98278543e-02 2.52892335e-03 1.94905761e-01 9.47563511e-02\n",
      " 2.98769419e-01 3.03843025e-02 9.40465788e-02 2.30206351e-01\n",
      " 2.68297665e-01 2.91296831e-01 6.27673758e-02 2.89146905e-02\n",
      " 2.14004948e-01 1.02179344e-01 1.33429154e-02 5.83081220e-02\n",
      " 9.53018707e-02 9.30681336e-03 2.30603564e-01 4.62928845e-01\n",
      " 3.94018553e-02 1.21921342e-01 3.47636958e-02 4.70579526e-02\n",
      " 7.86725056e-01 1.47576506e-01 6.59906530e-01 1.85832594e-02\n",
      " 3.31295211e-02 7.04057099e-02 5.06943898e-01 5.16009247e-01\n",
      " 2.19215052e-01 7.52149211e-01 4.55540325e-01 3.01524770e-02\n",
      " 2.85480950e-02 7.57585877e-02 9.43500918e-02 4.46546690e-03\n",
      " 2.92680333e-02 1.99880333e-01 4.80158446e-01 8.57261945e-02\n",
      " 5.06049162e-02 8.10235797e-02 2.33371430e-01 2.52399825e-01\n",
      " 1.92098583e-01 3.64499853e-01 2.79185356e-01 1.38192059e-02\n",
      " 1.91856327e-01 1.16953580e-02 5.21306133e-02 1.24939558e-01\n",
      " 6.82406389e-02 3.19990359e-01 2.13388483e-01 4.30791249e-02\n",
      " 8.65334886e-03 2.02850156e-01 2.44199203e-01 8.20979097e-03\n",
      " 5.70662345e-01 6.14357618e-01 1.74838567e-01 6.09965221e-01\n",
      " 2.14460588e-01 4.57848279e-02 5.75680941e-02 1.85188064e-01]\n",
      "[  0.           0.58938282   0.59584808   0.71838792   0.81186181\n",
      "   1.0666666    1.25374702   1.27676396   1.38654446   1.48511425\n",
      "   1.71154529   2.38397548   2.509585     2.53212402   3.17419065\n",
      "   3.21026559   3.26830334   3.35712447   3.57093412   3.81555345\n",
      "   3.93847938   4.01987613   4.20247426   4.28214131   4.40199878\n",
      "   4.4204487    4.49046671   4.75883699   4.87749874   4.91696596\n",
      "   5.62288577   5.63944071   5.72743491   6.22718676   6.37691213\n",
      "   6.58790478   6.66604937   6.82231083   6.93453129   7.03789294\n",
      "   7.06175879   7.37508178   7.43379307   8.02786664   8.07078112\n",
      "   8.0925334    8.68587914   8.8477209    9.09433404   9.39146789\n",
      "   9.53180322   9.6140862    9.72127664   9.82607667   9.91806968\n",
      "   9.98042366  10.04303422  10.14689275  10.50891918  10.54778682\n",
      "  10.78026328  10.79646249  10.82237102  10.95329461  11.34285417\n",
      "  11.34784223  11.3548305   11.36440695  11.47554161  11.81193099\n",
      "  12.19616863  12.40144341  13.1913828   13.53580294  13.58145357\n",
      "  13.58900541  13.86801472  13.91081894  14.26481244  14.77540024\n",
      "  14.7834521   14.84376046  14.89726454  14.96345332  15.13164076\n",
      "  15.21068779  15.33283158  15.34000761  15.70874566  15.77827671\n",
      "  15.80737072  15.81558498  15.87239719  16.48447532  16.49254085\n",
      "  16.50281613  16.77185532  16.9118364   17.14335143  17.26880042\n",
      "  17.33011133  17.36952119  17.68974346  17.86306239  18.77339573\n",
      "  18.78960271  19.09886161  19.12056365  19.2043202   19.37175399\n",
      "  19.38278414  19.53641211  19.81779105  20.15055477  20.36843553\n",
      "  20.42802689  20.44927877  20.47816716  20.72408231  21.29623239\n",
      "  21.39028009  22.02499898  22.11483774  22.30080438  22.77891974\n",
      "  22.90479045  23.18920671  23.40280624  23.80209116  23.80957123\n",
      "  24.67174919  24.74204728  24.82776222  25.16700397  25.1783739\n",
      "  25.19380617  25.22212346  25.22408669  25.24374761  25.31499599\n",
      "  25.33042573  25.45095154  25.45379279  25.60972176  25.63175775\n",
      "  25.68172895  25.88947106  26.03030558  26.32552516  26.61269428\n",
      "  26.77229648  26.86404756  27.09987141  27.11580747  27.23372676\n",
      "  27.83270803  27.83990953  27.90395098  27.90412339  28.00715988\n",
      "  28.02788072  28.27164319  28.61237762  29.33087629  29.5098623\n",
      "  29.66657452  29.9770429   30.03837033  30.07498752  30.09748755\n",
      "  30.57808454  30.78161133  30.89953338  31.07753147  31.85202961\n",
      "  32.15505627  32.21853889  33.69070842  33.71179838  33.88171494\n",
      "  34.12397972  34.14425738  34.23138179  34.27595484  34.9529426\n",
      "  35.18689636  35.19182146  35.25402637  35.28624393  35.71695813\n",
      "  35.73411114  35.78681002  36.17480241  36.50300935  36.75242773\n",
      "  37.25501066  37.30568082  37.44315641  37.89272214  38.24574397\n",
      "  38.28529815  39.19124953  39.27603519  39.50093086  39.54058515\n",
      "  39.6003114   39.86754413  39.94529363  40.0175124   40.42491591\n",
      "  40.48370078  40.51338858  40.82324051  41.12645822  41.76863713\n",
      "  42.15131062  42.32009703  42.91242841  43.08368156  43.10605453\n",
      "  43.42891863  44.25728119  44.56199715  44.99519424  45.14183551\n",
      "  45.60548322  45.60702929  45.63605298  45.69241569  46.12928875\n",
      "  46.27998084  46.51202101  46.67702425  46.80920291  47.06865393\n",
      "  47.7258368   47.92344976  47.94011049  47.94126652  48.98144184\n",
      "  48.98989316  49.17885887  49.77531123  49.78624647  50.3191518\n",
      "  51.07648242  51.17307215  51.61136055  52.32093791  52.36138963\n",
      "  52.41853976  52.52934995  52.67983155  52.97540756  52.99028769\n",
      "  53.26062816  53.41443727  53.63871265  54.42769611  54.69926777\n",
      "  55.03266492  55.121067    55.20588964  55.25815399  55.80424019\n",
      "  56.15136152  56.35635262  56.99953411  57.27844748  57.54697347\n",
      "  57.68207525  57.96150935  57.97928127  58.42107795  58.8331415\n",
      "  58.9479214   59.25818079  59.3423683   59.99517523  60.28238217\n",
      "  60.37588453  60.51542444  60.64229105  60.93165464  61.35866476\n",
      "  62.17553725  62.41162864  62.4334399   62.66811359  62.72868506\n",
      "  62.74016202  62.99277829  63.33860121  63.50809941  63.57770074\n",
      "  63.65716098  63.96880841  64.22897449  64.24868889  64.48552036\n",
      "  64.92557777  65.10255395  65.49906088  65.81588624  65.9142215\n",
      "  65.91792797  66.21693439  66.23783248  66.23806236  66.58003061\n",
      "  66.87560934  67.04000963  67.08086079  67.14390285  67.43857138\n",
      "  67.61090378  67.62833217  67.88883353  68.46907194  68.96776014\n",
      "  69.38464801  69.44956518  69.46362646  69.5168917   69.61572561\n",
      "  69.71157369  69.78522543  70.21399977  70.69310982  70.97294178\n",
      "  71.2072248   71.64675625  71.75459845  71.88333729  72.27397255\n",
      "  72.42473743  72.63663755  72.94415885  73.13145485  73.45831722\n",
      "  73.61933034  73.77063267  73.80364745  73.83907028  73.84703138\n",
      "  74.02050371  74.23257024  74.806552    74.9546079   75.03530581\n",
      "  75.20830173  75.24736554  75.26862741  75.38928164  75.61629552\n",
      "  75.63245869  76.01145282  76.11672434  76.38421865  76.54768258\n",
      "  76.9391638   76.99425995  77.28947179  77.83040776  77.86202337\n",
      "  78.17580201  78.31591317  78.74324495  78.79337975  78.81396443\n",
      "  78.85388599  78.99000067  79.15636983  79.46595591  79.9080831\n",
      "  80.09494874  80.2567741   80.56210136  80.74136442  80.96055907\n",
      "  81.00905457  81.44620465  81.52905019  81.56179421  82.55096068\n",
      "  83.20313622  83.69442133  83.73332076  83.99917483  84.02367768\n",
      "  84.07329097  84.44313723  84.53347322  84.68750706  84.74905784\n",
      "  84.84546121  85.00107496  85.0474692   85.3930174   86.15792935\n",
      "  86.3472674   86.42266718  86.73296545  86.88030581  86.97681313\n",
      "  87.31898668  87.36280377  87.44252931  87.54855018  87.61256186\n",
      "  87.68036434  87.71990949  87.73532155  87.95832477  88.02156502\n",
      "  88.66950454  88.80779704  88.87687984  89.40074967  89.86680701\n",
      "  89.88824611  89.99776576  90.56980319  90.8562476   90.86401954\n",
      "  90.93362766  90.94013916  91.01955777  91.03938563  91.04191455\n",
      "  91.23682031  91.33157666  91.63034608  91.66073038  91.75477696\n",
      "  91.98498331  92.25328098  92.54457781  92.60734518  92.63625988\n",
      "  92.85026482  92.95244417  92.96578708  93.0240952   93.11939708\n",
      "  93.12870389  93.35930745  93.8222363   93.86163815  93.9835595\n",
      "  94.01832319  94.06538114  94.8521062   94.99968271  95.65958924\n",
      "  95.67817249  95.71130202  95.78170773  96.28865162  96.80466087\n",
      "  97.02387592  97.77602513  98.23156546  98.26171794  98.29026603\n",
      "  98.36602462  98.46037471  98.46484018  98.49410821  98.69398854\n",
      "  99.17414699  99.25987318  99.3104781   99.39150168  99.62487311\n",
      "  99.87727294 100.06937152 100.43387137 100.71305673 100.72687593\n",
      " 100.91873226 100.93042762 100.98255823 101.10749779 101.17573843\n",
      " 101.49572879 101.70911727 101.75219639 101.76084974 101.9636999\n",
      " 102.2078991  102.21610889 102.78677124 103.40112886 103.57596742\n",
      " 104.18593264 104.40039323 104.44617806 104.50374615 104.68893422]\n"
     ]
    }
   ],
   "source": [
    "# define W\n",
    "lamb = 5\n",
    "t = 500\n",
    "\n",
    "def interarrival_times(lamb, n):\n",
    "    W = np.random.exponential(1/lamb, size=n)\n",
    "    return W\n",
    "\n",
    "#define T_n\n",
    "def renewal_sequence(W):\n",
    "    T_n = np.zeros(len(W))\n",
    "    for i in range(1,len(W)):\n",
    "        T_n[i] = T_n[i-1]+W[i]\n",
    "    return T_n\n",
    "\n",
    "W = interarrival_times(lamb,t)\n",
    "print(W)\n",
    "T_n = renewal_sequence(W)\n",
    "print(T_n)\n",
    "\n",
    "        "
   ]
  },
  {
   "cell_type": "code",
   "execution_count": null,
   "metadata": {},
   "outputs": [],
   "source": []
  },
  {
   "cell_type": "code",
   "execution_count": 28,
   "metadata": {},
   "outputs": [],
   "source": [
    "def conv2 (lamb, sigm, L):\n",
    "    \n",
    "    X=[]\n",
    "    for n in range (10000): #a t fixé on génère 30 poissons\n",
    "        T,n=poiss(t,lamb)\n",
    "        X+=[(n-lamb*t)/np.sqrt((sigm**2)*(lamb**3)*t)]       \n",
    "    plt.hist(X,bins=30,density=True,label='Empirical distribution') \n",
    "    tt=np.linspace(min(X),max(X))\n",
    "    normal=[1/(sqrt(2*pi*1**2)) * exp(-((x)**2))/(2*1**2) for x in tt] #la loi N(0,1)\n",
    "    plt.plot(tt,normal,label='Theorical distribution')\n",
    "    plt.legend()\n",
    "#     plt.title(\"Convergence en loi vers N(0,1)\")\n",
    "    plt.show()\n",
    "    return X"
   ]
  },
  {
   "cell_type": "markdown",
   "metadata": {},
   "source": [
    "Le test suivant est un peu long a faire tourner, je l'avais donc tester pour 10 valeurs de $t$ les sorties sont stockées dans le dossier \"cv en loi\"."
   ]
  },
  {
   "cell_type": "code",
   "execution_count": 29,
   "metadata": {},
   "outputs": [
    {
     "data": {
      "image/png": "[encoded data removed]",
      "text/plain": [
       "<Figure size 432x288 with 1 Axes>"
      ]
     },
     "metadata": {
      "needs_background": "light"
     },
     "output_type": "display_data"
    }
   ],
   "source": [
    "L = 100_000\n",
    "\n",
    "X=conv2(3,1/9,L)\n"
   ]
  },
  {
   "cell_type": "markdown",
   "metadata": {},
   "source": [
    "Commentaires: Ce qu'on trace ici ce sont les 3 histogrammes pour 3 valeurs du temps final $t$ (la plus grande étant $t=100000$).Pour chacun de ces temps, on génère 30 poissons aléatoirement"
   ]
  }
 ],
 "metadata": {
  "kernelspec": {
   "display_name": "Python 3",
   "language": "python",
   "name": "python3"
  },
  "language_info": {
   "codemirror_mode": {
    "name": "ipython",
    "version": 3
   },
   "file_extension": ".py",
   "mimetype": "text/x-python",
   "name": "python",
   "nbconvert_exporter": "python",
   "pygments_lexer": "ipython3",
   "version": "3.8.8"
  },
  "latex_envs": {
   "LaTeX_envs_menu_present": true,
   "autoclose": false,
   "autocomplete": true,
   "bibliofile": "biblio.bib",
   "cite_by": "apalike",
   "current_citInitial": 1,
   "eqLabelWithNumbers": true,
   "eqNumInitial": 1,
   "hotkeys": {
    "equation": "Ctrl-E",
    "itemize": "Ctrl-I"
   },
   "labels_anchors": false,
   "latex_user_defs": false,
   "report_style_numbering": false,
   "user_envs_cfg": false
  },
  "toc": {
   "base_numbering": 1,
   "nav_menu": {},
   "number_sections": true,
   "sideBar": true,
   "skip_h1_title": false,
   "title_cell": "Table of Contents",
   "title_sidebar": "Contents",
   "toc_cell": false,
   "toc_position": {},
   "toc_section_display": true,
   "toc_window_display": false
  }
 },
 "nbformat": 4,
 "nbformat_minor": 4
}
