{
 "cells": [
  {
   "cell_type": "code",
   "execution_count": 2,
   "metadata": {},
   "outputs": [],
   "source": [
    "import numpy as np\n",
    "import matplotlib.pyplot as plt\n",
    "import pandas as pd\n",
    "import seaborn as sns\n",
    "from scipy.stats import norm\n",
    "from scipy.stats import pareto\n",
    "from scipy.stats import lognorm"
   ]
  },
  {
   "cell_type": "code",
   "execution_count": null,
   "metadata": {},
   "outputs": [],
   "source": []
  },
  {
   "cell_type": "code",
   "execution_count": null,
   "metadata": {},
   "outputs": [],
   "source": []
  },
  {
   "cell_type": "code",
   "execution_count": 3,
   "metadata": {},
   "outputs": [
    {
     "data": {
      "image/png": "[encoded data removed]",
      "text/plain": [
       "<Figure size 432x288 with 1 Axes>"
      ]
     },
     "metadata": {
      "needs_background": "light"
     },
     "output_type": "display_data"
    }
   ],
   "source": [
    "size, scale = 1000, 2\n",
    "somme = pd.Series(np.random.pareto(scale, size=size) + np.random.pareto(scale, size=size))\n",
    "pareto = pd.Series(np.random.pareto(scale, size=size))\n",
    "somme.plot.hist(grid=True, bins=50, rwidth=1,\n",
    "                   color='#607c8e')\n",
    "plt.title('Commute Times for 1,000 Commuters')\n",
    "plt.xlabel('Counts')\n",
    "plt.ylabel('Commute Time')\n",
    "plt.grid(axis='y', alpha=0.75)"
   ]
  },
  {
   "cell_type": "code",
   "execution_count": null,
   "metadata": {},
   "outputs": [],
   "source": []
  },
  {
   "cell_type": "code",
   "execution_count": null,
   "metadata": {},
   "outputs": [],
   "source": []
  },
  {
   "cell_type": "code",
   "execution_count": 4,
   "metadata": {},
   "outputs": [
    {
     "data": {
      "image/png": "[encoded data removed]",
      "text/plain": [
       "<Figure size 432x288 with 1 Axes>"
      ]
     },
     "metadata": {
      "needs_background": "light"
     },
     "output_type": "display_data"
    }
   ],
   "source": [
    "N = 1000\n",
    "d = np.random.pareto(2, size=N)\n",
    "plt.hist(d, color=\"grey\", bins='auto')\n",
    "plt.xlabel(\"Mass [g] of each package\")\n",
    "plt.ylabel(\"Number of packages (N={})\".format(N))\n",
    "plt.show()"
   ]
  },
  {
   "cell_type": "code",
   "execution_count": 113,
   "metadata": {},
   "outputs": [],
   "source": []
  },
  {
   "cell_type": "code",
   "execution_count": null,
   "metadata": {},
   "outputs": [],
   "source": []
  },
  {
   "cell_type": "code",
   "execution_count": null,
   "metadata": {},
   "outputs": [],
   "source": []
  },
  {
   "cell_type": "code",
   "execution_count": 5,
   "metadata": {
    "scrolled": true
   },
   "outputs": [
    {
     "data": {
      "image/png": "[encoded data removed]",
      "text/plain": [
       "<Figure size 432x288 with 1 Axes>"
      ]
     },
     "metadata": {
      "needs_background": "light"
     },
     "output_type": "display_data"
    }
   ],
   "source": [
    "\n",
    "rng = np.random.RandomState(10)  # deterministic random data\n",
    "a = np.hstack((rng.normal(size=1000),\n",
    "               rng.normal(loc=5, scale=2, size=1000)))\n",
    "_ = plt.hist(a, bins='auto')  # arguments are passed to np.histogram\n",
    "plt.title(\"Histogram with 'auto' bins\")\n",
    "plt.Text(0.5, 1.0, \"Histogram with 'auto' bins\")\n",
    "plt.show()"
   ]
  },
  {
   "cell_type": "code",
   "execution_count": 124,
   "metadata": {},
   "outputs": [
    {
     "name": "stdout",
     "output_type": "stream",
     "text": [
      "[-3.20440134 -2.43824952 -1.67209769 -0.90594587 -0.13979404  0.62635779\n",
      "  1.39250961  2.15866144  2.92481326  3.69096509  4.45711692  5.22326874\n",
      "  5.98942057  6.75557239  7.52172422  8.28787605  9.05402787  9.8201797\n",
      " 10.58633152]\n"
     ]
    }
   ],
   "source": [
    "hist, bin_edges = np.histogram(a, bins='auto',density=True)\n",
    "print(bin_edges)"
   ]
  },
  {
   "cell_type": "code",
   "execution_count": 123,
   "metadata": {},
   "outputs": [
    {
     "data": {
      "text/plain": [
       "1.0"
      ]
     },
     "execution_count": 123,
     "metadata": {},
     "output_type": "execute_result"
    }
   ],
   "source": [
    "np.sum(hist * np.diff(bin_edges))"
   ]
  },
  {
   "cell_type": "code",
   "execution_count": 139,
   "metadata": {},
   "outputs": [],
   "source": [
    "N = 1000\n",
    "d = np.random.pareto(2, size=N)\n",
    "hist, bin_edges = np.histogram(d,bins=1000, density = True)"
   ]
  },
  {
   "cell_type": "code",
   "execution_count": 140,
   "metadata": {},
   "outputs": [
    {
     "data": {
      "text/plain": [
       "1.0"
      ]
     },
     "execution_count": 140,
     "metadata": {},
     "output_type": "execute_result"
    }
   ],
   "source": [
    "np.sum(hist*np.diff(bin_edges))"
   ]
  },
  {
   "cell_type": "code",
   "execution_count": 7,
   "metadata": {},
   "outputs": [],
   "source": []
  },
  {
   "cell_type": "code",
   "execution_count": null,
   "metadata": {},
   "outputs": [],
   "source": []
  },
  {
   "cell_type": "code",
   "execution_count": null,
   "metadata": {},
   "outputs": [],
   "source": []
  },
  {
   "cell_type": "code",
   "execution_count": 6,
   "metadata": {},
   "outputs": [],
   "source": []
  },
  {
   "cell_type": "markdown",
   "metadata": {},
   "source": [
    "### Test de convergence de P(X_1 + X_2 > t) / P(X_1 > t) vers 2\n",
    "\n",
    "Dans cette partie X suit une loi de Paréto de paramètre égal à 2 "
   ]
  },
  {
   "cell_type": "code",
   "execution_count": 6,
   "metadata": {},
   "outputs": [],
   "source": [
    "def get_Int(bin_edges, t): # Retourne l'indice du premier bord de bin dont la réalisation est au dessus de t\n",
    "    nb = len(bin_edges)\n",
    "    i = 0\n",
    "    done = 0\n",
    "    if t>bin_edges[-1]:\n",
    "        print(\"aucune réalisation suppérieure à t\")\n",
    "    if t <= bin_edges[-1]:\n",
    "        while done == 0 :\n",
    "            if bin_edges[i] < t: \n",
    "                i = i + 1\n",
    "            if bin_edges[i] > t:\n",
    "                done = 1 \n",
    "    return i "
   ]
  },
  {
   "cell_type": "code",
   "execution_count": 7,
   "metadata": {},
   "outputs": [],
   "source": [
    "def calc_Prob(t, hist, bin_edges): #Calcule P(X>t)\n",
    "    return np.sum(hist[t:]*np.diff(bin_edges[t:]))\n"
   ]
  },
  {
   "cell_type": "code",
   "execution_count": 8,
   "metadata": {},
   "outputs": [],
   "source": [
    "N = 100000000\n",
    "X_1 = np.random.pareto(2, size=N)\n",
    "X_2 = np.random.pareto(2, size=N)\n",
    "hist, bin_edges = np.histogram(X_1+X_2,bins=1000, density = True)"
   ]
  },
  {
   "cell_type": "code",
   "execution_count": null,
   "metadata": {},
   "outputs": [],
   "source": []
  },
  {
   "cell_type": "code",
   "execution_count": 9,
   "metadata": {},
   "outputs": [],
   "source": [
    "X_3 = np.random.pareto(2, size=N)\n",
    "hist_1, bin_edges_1 = np.histogram(X_3,bins=1000, density = True)"
   ]
  },
  {
   "cell_type": "code",
   "execution_count": 200,
   "metadata": {},
   "outputs": [],
   "source": []
  },
  {
   "cell_type": "code",
   "execution_count": null,
   "metadata": {},
   "outputs": [],
   "source": []
  },
  {
   "cell_type": "code",
   "execution_count": 13,
   "metadata": {},
   "outputs": [],
   "source": [
    "Tfin = 2000"
   ]
  },
  {
   "cell_type": "code",
   "execution_count": 14,
   "metadata": {},
   "outputs": [],
   "source": [
    "P = np.zeros(Tfin)\n",
    "for t in range(1,Tfin,1):\n",
    "    P_Somme = calc_Prob(get_Int(bin_edges,t), hist, bin_edges)\n",
    "    P_X3 =  calc_Prob(get_Int(bin_edges_1,t), hist_1, bin_edges_1)\n",
    "    P[t] = P_Somme/P_X3\n",
    "    "
   ]
  },
  {
   "cell_type": "code",
   "execution_count": 8,
   "metadata": {},
   "outputs": [
    {
     "data": {
      "image/png": "[encoded data removed]",
      "text/plain": [
       "<Figure size 432x288 with 1 Axes>"
      ]
     },
     "metadata": {
      "needs_background": "light"
     },
     "output_type": "display_data"
    }
   ],
   "source": [
    "plt.plot(P)\n",
    "plt.grid( alpha=0.75)"
   ]
  },
  {
   "cell_type": "markdown",
   "metadata": {},
   "source": [
    "### Expériementation"
   ]
  },
  {
   "cell_type": "code",
   "execution_count": 96,
   "metadata": {},
   "outputs": [],
   "source": [
    "def estime_Esp(loi = 1 , NbVar = 100000, param_W = 2, Nb_Cycles = 10, inter = 10,c = 1):\n",
    "    W = np.random.exponential(param_W, size=NbVar)\n",
    "    first = 0\n",
    "    last = first + inter\n",
    "    if loi == 0: \n",
    "        X = np.random.exponential(2, size=NbVar)\n",
    "    \n",
    "    if loi == 1:\n",
    "        X = np.random.uniform(size=NbVar)\n",
    "        \n",
    "    if loi == 2:\n",
    "        X = np.abs(np.random.normal(0,1,size=NbVar))\n",
    "    \n",
    "    def search(first, last):\n",
    "        K = np.linspace(first, last,last-first )\n",
    "        NbK = last - first\n",
    "        for i in range(NbK):\n",
    "            somme = 0\n",
    "            for j in range(NbVar):\n",
    "                somme = np.exp(K[i]*(X[j] - c*W[j]))\n",
    "            K[i] = somme/NbVar\n",
    "        return K\n",
    "    \n",
    "    def one_in(K):\n",
    "        new_first = 0\n",
    "        new_last = 1\n",
    "        for i in range(len(K)-1):\n",
    "            if K[i]<1 and K[i+1]> 1: \n",
    "                new_first = i \n",
    "                new_last = i+1\n",
    "            else :\n",
    "                new_first = len(K)\n",
    "                new_last = len(K)+inter\n",
    "        return new_first, new_last\n",
    "    \n",
    "    if Nb_Cycles == 1:\n",
    "        return search(first,last)\n",
    "    \n",
    "    if Nb_Cycles > 1:\n",
    "        for i in range(Nb_Cycles):\n",
    "            K = search(first,last)\n",
    "            first,last = one_in(K)   \n",
    "            return K\n",
    "        \n",
    "    else : return Null\n",
    "    \n",
    "\n",
    "        "
   ]
  },
  {
   "cell_type": "code",
   "execution_count": 155,
   "metadata": {},
   "outputs": [],
   "source": [
    "def estime_Esp1(loi = 1 , NbVar = 1000000, param_W = 2, first = 0, last = 2, inter=10, c = 2):\n",
    "    W = np.random.exponential(param_W, size=NbVar)\n",
    "    if loi == 0: \n",
    "        X = np.random.exponential(2, size=NbVar)\n",
    "    \n",
    "    if loi == 1:\n",
    "        X = np.random.uniform(size=NbVar)\n",
    "        \n",
    "    if loi == 2:\n",
    "        X = np.abs(np.random.normal(0,1,size=NbVar))\n",
    "    \n",
    "\n",
    "    K = np.linspace(first, last, inter )\n",
    "    K2 = np.zeros(inter)\n",
    "    for i in range(inter):\n",
    "        somme = 0\n",
    "        for j in range(NbVar):\n",
    "            somme = somme + np.exp(K[i]*(X[j] - c*W[j]))\n",
    "        K2[i] = somme/NbVar\n",
    "    plt.plot(K, K2)\n",
    "\n"
   ]
  },
  {
   "cell_type": "code",
   "execution_count": 154,
   "metadata": {},
   "outputs": [
    {
     "data": {
      "image/png": "[encoded data removed]",
      "text/plain": [
       "<Figure size 432x288 with 1 Axes>"
      ]
     },
     "metadata": {
      "needs_background": "light"
     },
     "output_type": "display_data"
    }
   ],
   "source": [
    "estime_Esp1(loi = 0 , NbVar = 100000, param_W = 2, first = 0, last = 2, inter=200, c = 2)"
   ]
  },
  {
   "cell_type": "markdown",
   "metadata": {},
   "source": [
    "### Fonctions Utilisées pour l'estimation empirique de K "
   ]
  },
  {
   "cell_type": "code",
   "execution_count": 172,
   "metadata": {},
   "outputs": [],
   "source": [
    "def calcule_K(W , X, c, first, last, nb_points):\n",
    "    K1 = np.linspace(first, last, nb_points )\n",
    "    K2 = np.zeros(nb_points)\n",
    "    NbVar = len(X)\n",
    "    for i in range(nb_points):\n",
    "        somme = 0\n",
    "        for j in range(NbVar):\n",
    "            somme = somme + np.exp(K1[i]*(X[j] - c*W[j]))\n",
    "        K2[i] = somme/NbVar\n",
    "    K = np.zeros((2,nb_points))\n",
    "    K[0,:] = K1 # Les valeurs de K\n",
    "    K[1,:] = K2 # L'estimation de l'espérence pour K = K[0,i]\n",
    "    return K"
   ]
  },
  {
   "cell_type": "code",
   "execution_count": 14,
   "metadata": {},
   "outputs": [],
   "source": [
    "def calcule_KInd(W , X, c, first, last, nb_points): # tous les K sont écris en majuscules ! \n",
    "    K1 = np.linspace(first, last, nb_points )\n",
    "    K2 = np.zeros(nb_points)\n",
    "    NbVar = len(X)\n",
    "    for i in range(nb_points):\n",
    "        s1 = 0\n",
    "        s2 = 0\n",
    "        Ka = K1[i]\n",
    "        for j in range(NbVar):\n",
    "            s1 = s1 + np.exp(Ka*(X[j]))\n",
    "            s2 = s2 + np.exp( -Ka*c*W[j])\n",
    "        K2[i] = (s1*s2)/NbVar**2\n",
    "    K = np.zeros((2,nb_points))\n",
    "    K[0,:] = K1 # Les valeurs de K\n",
    "    K[1,:] = K2 # L'estimation de l'espérence pour K = K[0,i]\n",
    "    return K"
   ]
  },
  {
   "cell_type": "code",
   "execution_count": 11,
   "metadata": {},
   "outputs": [],
   "source": [
    "def affine_bornes_K(K):\n",
    "    new_first = K[0,0] # Juste pour initialiser\n",
    "    new_last = K[0,-1]\n",
    "    i = 0\n",
    "    T1 = []\n",
    "    T2 = []\n",
    "    while i < (len(K[0,:])):\n",
    "        if K[1,i] > 1 and K[1,i-1]<1:\n",
    "            T1.append(K[0,i-1])\n",
    "            T2.append(K[0,i])\n",
    "        i = i + 1\n",
    "    T = [T1,T2]\n",
    "    return T"
   ]
  },
  {
   "cell_type": "markdown",
   "metadata": {},
   "source": [
    "#### On cherche K empiriquement en s'aident de l'intervalle contenant Kopt \n",
    "\n",
    "Penser a bien générer le jeux de variable dans une cellule diff que la recherche optimale de K !!! \n",
    "\n",
    "On supposera que W suit toujours une Exp(2) et c = 2 "
   ]
  },
  {
   "cell_type": "markdown",
   "metadata": {},
   "source": [
    "#### Cas d'une variable Exp(2)"
   ]
  },
  {
   "cell_type": "code",
   "execution_count": 27,
   "metadata": {},
   "outputs": [
    {
     "name": "stdout",
     "output_type": "stream",
     "text": [
      "K théorique pour X~Exp: K =1.0\n"
     ]
    }
   ],
   "source": [
    "NbVar = 10000\n",
    "c = 2\n",
    "l1 = 1/2\n",
    "l2 = 1/2\n",
    "X = np.random.exponential(scale = l1, size=NbVar) # Scale = 1/lambda si on veut X~Exp(lambda) (python qui couille)\n",
    "lamb_X = 1/l1\n",
    "W = np.random.exponential(scale = l2, size=NbVar)\n",
    "lamb_W = 1/l2\n",
    "# dans ce cas particulier le K se calcule explicitement \n",
    "K_th = (c*lamb_X - lamb_W )/c\n",
    "print('K théorique pour X~Exp: K ='+str(K_th))"
   ]
  },
  {
   "cell_type": "code",
   "execution_count": 28,
   "metadata": {},
   "outputs": [
    {
     "name": "stdout",
     "output_type": "stream",
     "text": [
      "[[1.035678391959799], [1.0452261306532662]]\n"
     ]
    },
    {
     "data": {
      "image/png": "[encoded data removed]",
      "text/plain": [
       "<Figure size 432x288 with 1 Axes>"
      ]
     },
     "metadata": {
      "needs_background": "light"
     },
     "output_type": "display_data"
    }
   ],
   "source": [
    "K = calcule_KInd(W,X,c,0.1,2,200)\n",
    "T = affine_bornes_K(K)\n",
    "print(T)\n",
    "plt.plot(K[0,:],K[1,:])\n",
    "plt.grid()"
   ]
  },
  {
   "cell_type": "markdown",
   "metadata": {},
   "source": [
    "#### Cas d'une variable U[0,1]"
   ]
  },
  {
   "cell_type": "code",
   "execution_count": 245,
   "metadata": {},
   "outputs": [],
   "source": [
    "NbVar = 1000\n",
    "c = 2\n",
    "X = np.random.uniform(0,1, size=NbVar)\n",
    "W = np.random.exponential(2, size=NbVar)"
   ]
  },
  {
   "cell_type": "code",
   "execution_count": 246,
   "metadata": {},
   "outputs": [
    {
     "name": "stdout",
     "output_type": "stream",
     "text": [
      "[[4.51356783919598], [4.517085427135679]]\n"
     ]
    },
    {
     "data": {
      "image/png": "[encoded data removed]",
      "text/plain": [
       "<Figure size 432x288 with 1 Axes>"
      ]
     },
     "metadata": {
      "needs_background": "light"
     },
     "output_type": "display_data"
    }
   ],
   "source": [
    "K = calcule_K(W,X,c,4,4.7,200)\n",
    "T = affine_bornes_K(K)\n",
    "print(T)\n",
    "plt.plot(K[0,:],K[1,:])\n",
    "plt.grid()"
   ]
  },
  {
   "cell_type": "markdown",
   "metadata": {},
   "source": [
    "#### Cas d'une variable N(0,1) en valeur abs"
   ]
  },
  {
   "cell_type": "code",
   "execution_count": 251,
   "metadata": {},
   "outputs": [],
   "source": [
    "NbVar = 1000\n",
    "c = 2\n",
    "X = np.abs(np.random.normal(0,1, size=NbVar))\n",
    "W = np.random.exponential(2, size=NbVar)"
   ]
  },
  {
   "cell_type": "code",
   "execution_count": 255,
   "metadata": {},
   "outputs": [
    {
     "name": "stdout",
     "output_type": "stream",
     "text": [
      "[[1.8412060301507538], [1.8419597989949748]]\n"
     ]
    },
    {
     "data": {
      "image/png": "[encoded data removed]",
      "text/plain": [
       "<Figure size 432x288 with 1 Axes>"
      ]
     },
     "metadata": {
      "needs_background": "light"
     },
     "output_type": "display_data"
    }
   ],
   "source": [
    "K = calcule_K(W,X,c,1.75,1.9,200)\n",
    "T = affine_bornes_K(K)\n",
    "print(T)\n",
    "plt.plot(K[0,:],K[1,:])\n",
    "plt.grid()"
   ]
  },
  {
   "cell_type": "markdown",
   "metadata": {},
   "source": [
    "## Loi de weibull \n"
   ]
  },
  {
   "cell_type": "code",
   "execution_count": 3,
   "metadata": {},
   "outputs": [],
   "source": [
    "N = 100000000\n",
    "X_1 = np.random.weibull(0.5, size=N)\n",
    "X_2 = np.random.weibull(0.5, size=N)\n",
    "hist, bin_edges = np.histogram(X_1+X_2,bins=10000, density = True)"
   ]
  },
  {
   "cell_type": "code",
   "execution_count": 94,
   "metadata": {},
   "outputs": [],
   "source": [
    "X_3 = np.random.weibull(0.5, size=N)\n",
    "hist_1, bin_edges_1 = np.histogram(X_3,bins=10000, density = True)"
   ]
  },
  {
   "cell_type": "code",
   "execution_count": 102,
   "metadata": {},
   "outputs": [],
   "source": [
    "Tfin = 400"
   ]
  },
  {
   "cell_type": "code",
   "execution_count": 103,
   "metadata": {},
   "outputs": [
    {
     "name": "stdout",
     "output_type": "stream",
     "text": [
      "aucune réalisation suppérieure à t\n",
      "aucune réalisation suppérieure à t\n",
      "aucune réalisation suppérieure à t\n",
      "aucune réalisation suppérieure à t\n",
      "aucune réalisation suppérieure à t\n",
      "aucune réalisation suppérieure à t\n",
      "aucune réalisation suppérieure à t\n",
      "aucune réalisation suppérieure à t\n",
      "aucune réalisation suppérieure à t\n",
      "aucune réalisation suppérieure à t\n",
      "aucune réalisation suppérieure à t\n",
      "aucune réalisation suppérieure à t\n",
      "aucune réalisation suppérieure à t\n",
      "aucune réalisation suppérieure à t\n",
      "aucune réalisation suppérieure à t\n",
      "aucune réalisation suppérieure à t\n",
      "aucune réalisation suppérieure à t\n",
      "aucune réalisation suppérieure à t\n",
      "aucune réalisation suppérieure à t\n",
      "aucune réalisation suppérieure à t\n",
      "aucune réalisation suppérieure à t\n",
      "aucune réalisation suppérieure à t\n",
      "aucune réalisation suppérieure à t\n",
      "aucune réalisation suppérieure à t\n",
      "aucune réalisation suppérieure à t\n",
      "aucune réalisation suppérieure à t\n",
      "aucune réalisation suppérieure à t\n",
      "aucune réalisation suppérieure à t\n",
      "aucune réalisation suppérieure à t\n",
      "aucune réalisation suppérieure à t\n",
      "aucune réalisation suppérieure à t\n",
      "aucune réalisation suppérieure à t\n",
      "aucune réalisation suppérieure à t\n",
      "aucune réalisation suppérieure à t\n",
      "aucune réalisation suppérieure à t\n",
      "aucune réalisation suppérieure à t\n",
      "aucune réalisation suppérieure à t\n",
      "aucune réalisation suppérieure à t\n",
      "aucune réalisation suppérieure à t\n",
      "aucune réalisation suppérieure à t\n",
      "aucune réalisation suppérieure à t\n",
      "aucune réalisation suppérieure à t\n",
      "aucune réalisation suppérieure à t\n",
      "aucune réalisation suppérieure à t\n",
      "aucune réalisation suppérieure à t\n",
      "aucune réalisation suppérieure à t\n",
      "aucune réalisation suppérieure à t\n",
      "aucune réalisation suppérieure à t\n",
      "aucune réalisation suppérieure à t\n",
      "aucune réalisation suppérieure à t\n",
      "aucune réalisation suppérieure à t\n",
      "aucune réalisation suppérieure à t\n",
      "aucune réalisation suppérieure à t\n",
      "aucune réalisation suppérieure à t\n",
      "aucune réalisation suppérieure à t\n",
      "aucune réalisation suppérieure à t\n",
      "aucune réalisation suppérieure à t\n",
      "aucune réalisation suppérieure à t\n",
      "aucune réalisation suppérieure à t\n",
      "aucune réalisation suppérieure à t\n",
      "aucune réalisation suppérieure à t\n",
      "aucune réalisation suppérieure à t\n",
      "aucune réalisation suppérieure à t\n",
      "aucune réalisation suppérieure à t\n",
      "aucune réalisation suppérieure à t\n",
      "aucune réalisation suppérieure à t\n",
      "aucune réalisation suppérieure à t\n",
      "aucune réalisation suppérieure à t\n",
      "aucune réalisation suppérieure à t\n",
      "aucune réalisation suppérieure à t\n",
      "aucune réalisation suppérieure à t\n",
      "aucune réalisation suppérieure à t\n",
      "aucune réalisation suppérieure à t\n",
      "aucune réalisation suppérieure à t\n",
      "aucune réalisation suppérieure à t\n",
      "aucune réalisation suppérieure à t\n",
      "aucune réalisation suppérieure à t\n",
      "aucune réalisation suppérieure à t\n",
      "aucune réalisation suppérieure à t\n",
      "aucune réalisation suppérieure à t\n",
      "aucune réalisation suppérieure à t\n",
      "aucune réalisation suppérieure à t\n",
      "aucune réalisation suppérieure à t\n",
      "aucune réalisation suppérieure à t\n",
      "aucune réalisation suppérieure à t\n",
      "aucune réalisation suppérieure à t\n",
      "aucune réalisation suppérieure à t\n",
      "aucune réalisation suppérieure à t\n",
      "aucune réalisation suppérieure à t\n",
      "aucune réalisation suppérieure à t\n",
      "aucune réalisation suppérieure à t\n",
      "aucune réalisation suppérieure à t\n",
      "aucune réalisation suppérieure à t\n",
      "aucune réalisation suppérieure à t\n",
      "aucune réalisation suppérieure à t\n",
      "aucune réalisation suppérieure à t\n",
      "aucune réalisation suppérieure à t\n",
      "aucune réalisation suppérieure à t\n",
      "aucune réalisation suppérieure à t\n",
      "aucune réalisation suppérieure à t\n",
      "aucune réalisation suppérieure à t\n",
      "aucune réalisation suppérieure à t\n",
      "aucune réalisation suppérieure à t\n",
      "aucune réalisation suppérieure à t\n",
      "aucune réalisation suppérieure à t\n",
      "aucune réalisation suppérieure à t\n",
      "aucune réalisation suppérieure à t\n",
      "aucune réalisation suppérieure à t\n",
      "aucune réalisation suppérieure à t\n",
      "aucune réalisation suppérieure à t\n",
      "aucune réalisation suppérieure à t\n",
      "aucune réalisation suppérieure à t\n",
      "aucune réalisation suppérieure à t\n",
      "aucune réalisation suppérieure à t\n",
      "aucune réalisation suppérieure à t\n",
      "aucune réalisation suppérieure à t\n",
      "aucune réalisation suppérieure à t\n",
      "aucune réalisation suppérieure à t\n",
      "aucune réalisation suppérieure à t\n",
      "aucune réalisation suppérieure à t\n",
      "aucune réalisation suppérieure à t\n",
      "aucune réalisation suppérieure à t\n",
      "aucune réalisation suppérieure à t\n",
      "aucune réalisation suppérieure à t\n",
      "aucune réalisation suppérieure à t\n",
      "aucune réalisation suppérieure à t\n",
      "aucune réalisation suppérieure à t\n",
      "aucune réalisation suppérieure à t\n",
      "aucune réalisation suppérieure à t\n",
      "aucune réalisation suppérieure à t\n",
      "aucune réalisation suppérieure à t\n",
      "aucune réalisation suppérieure à t\n",
      "aucune réalisation suppérieure à t\n",
      "aucune réalisation suppérieure à t\n",
      "aucune réalisation suppérieure à t\n",
      "aucune réalisation suppérieure à t\n",
      "aucune réalisation suppérieure à t\n",
      "aucune réalisation suppérieure à t\n",
      "aucune réalisation suppérieure à t\n",
      "aucune réalisation suppérieure à t\n",
      "aucune réalisation suppérieure à t\n",
      "aucune réalisation suppérieure à t\n",
      "aucune réalisation suppérieure à t\n",
      "aucune réalisation suppérieure à t\n",
      "aucune réalisation suppérieure à t\n",
      "aucune réalisation suppérieure à t\n",
      "aucune réalisation suppérieure à t\n",
      "aucune réalisation suppérieure à t\n",
      "aucune réalisation suppérieure à t\n",
      "aucune réalisation suppérieure à t\n",
      "aucune réalisation suppérieure à t\n",
      "aucune réalisation suppérieure à t\n",
      "aucune réalisation suppérieure à t\n",
      "aucune réalisation suppérieure à t\n",
      "aucune réalisation suppérieure à t\n",
      "aucune réalisation suppérieure à t\n",
      "aucune réalisation suppérieure à t\n",
      "aucune réalisation suppérieure à t\n",
      "aucune réalisation suppérieure à t\n",
      "aucune réalisation suppérieure à t\n",
      "aucune réalisation suppérieure à t\n",
      "aucune réalisation suppérieure à t\n",
      "aucune réalisation suppérieure à t\n",
      "aucune réalisation suppérieure à t\n",
      "aucune réalisation suppérieure à t\n",
      "aucune réalisation suppérieure à t\n",
      "aucune réalisation suppérieure à t\n",
      "aucune réalisation suppérieure à t\n",
      "aucune réalisation suppérieure à t\n",
      "aucune réalisation suppérieure à t\n",
      "aucune réalisation suppérieure à t\n",
      "aucune réalisation suppérieure à t\n",
      "aucune réalisation suppérieure à t\n",
      "aucune réalisation suppérieure à t\n",
      "aucune réalisation suppérieure à t\n",
      "aucune réalisation suppérieure à t\n",
      "aucune réalisation suppérieure à t\n",
      "aucune réalisation suppérieure à t\n",
      "aucune réalisation suppérieure à t\n",
      "aucune réalisation suppérieure à t\n",
      "aucune réalisation suppérieure à t\n",
      "aucune réalisation suppérieure à t\n",
      "aucune réalisation suppérieure à t\n",
      "aucune réalisation suppérieure à t\n",
      "aucune réalisation suppérieure à t\n",
      "aucune réalisation suppérieure à t\n",
      "aucune réalisation suppérieure à t\n",
      "aucune réalisation suppérieure à t\n",
      "aucune réalisation suppérieure à t\n",
      "aucune réalisation suppérieure à t\n",
      "aucune réalisation suppérieure à t\n",
      "aucune réalisation suppérieure à t\n",
      "aucune réalisation suppérieure à t\n",
      "aucune réalisation suppérieure à t\n",
      "aucune réalisation suppérieure à t\n",
      "aucune réalisation suppérieure à t\n",
      "aucune réalisation suppérieure à t\n",
      "aucune réalisation suppérieure à t\n",
      "aucune réalisation suppérieure à t\n",
      "aucune réalisation suppérieure à t\n",
      "aucune réalisation suppérieure à t\n",
      "aucune réalisation suppérieure à t\n",
      "aucune réalisation suppérieure à t\n",
      "aucune réalisation suppérieure à t\n",
      "aucune réalisation suppérieure à t\n",
      "aucune réalisation suppérieure à t\n",
      "aucune réalisation suppérieure à t\n",
      "aucune réalisation suppérieure à t\n",
      "aucune réalisation suppérieure à t\n",
      "aucune réalisation suppérieure à t\n",
      "aucune réalisation suppérieure à t\n",
      "aucune réalisation suppérieure à t\n",
      "aucune réalisation suppérieure à t\n",
      "aucune réalisation suppérieure à t\n",
      "aucune réalisation suppérieure à t\n",
      "aucune réalisation suppérieure à t\n",
      "aucune réalisation suppérieure à t\n",
      "aucune réalisation suppérieure à t\n",
      "aucune réalisation suppérieure à t\n",
      "aucune réalisation suppérieure à t\n",
      "aucune réalisation suppérieure à t\n",
      "aucune réalisation suppérieure à t\n",
      "aucune réalisation suppérieure à t\n",
      "aucune réalisation suppérieure à t\n",
      "aucune réalisation suppérieure à t\n",
      "aucune réalisation suppérieure à t\n",
      "aucune réalisation suppérieure à t\n",
      "aucune réalisation suppérieure à t\n",
      "aucune réalisation suppérieure à t\n",
      "aucune réalisation suppérieure à t\n",
      "aucune réalisation suppérieure à t\n",
      "aucune réalisation suppérieure à t\n",
      "aucune réalisation suppérieure à t\n",
      "aucune réalisation suppérieure à t\n",
      "aucune réalisation suppérieure à t\n",
      "aucune réalisation suppérieure à t\n",
      "aucune réalisation suppérieure à t\n",
      "aucune réalisation suppérieure à t\n",
      "aucune réalisation suppérieure à t\n",
      "aucune réalisation suppérieure à t\n",
      "aucune réalisation suppérieure à t\n",
      "aucune réalisation suppérieure à t\n",
      "aucune réalisation suppérieure à t\n",
      "aucune réalisation suppérieure à t\n",
      "aucune réalisation suppérieure à t\n",
      "aucune réalisation suppérieure à t\n",
      "aucune réalisation suppérieure à t\n",
      "aucune réalisation suppérieure à t\n",
      "aucune réalisation suppérieure à t\n",
      "aucune réalisation suppérieure à t\n",
      "aucune réalisation suppérieure à t\n",
      "aucune réalisation suppérieure à t\n",
      "aucune réalisation suppérieure à t\n",
      "aucune réalisation suppérieure à t\n",
      "aucune réalisation suppérieure à t\n",
      "aucune réalisation suppérieure à t\n",
      "aucune réalisation suppérieure à t\n",
      "aucune réalisation suppérieure à t\n",
      "aucune réalisation suppérieure à t\n",
      "aucune réalisation suppérieure à t\n",
      "aucune réalisation suppérieure à t\n"
     ]
    }
   ],
   "source": [
    "P = np.zeros(Tfin)\n",
    "for t in range(1,Tfin,1):\n",
    "    P_Somme = calc_Prob(get_Int(bin_edges,t), hist, bin_edges)\n",
    "    P_X3 =  calc_Prob(get_Int(bin_edges_1,t), hist_1, bin_edges_1)\n",
    "    P[t] = P_Somme/P_X3\n",
    "    "
   ]
  },
  {
   "cell_type": "code",
   "execution_count": 97,
   "metadata": {},
   "outputs": [
    {
     "data": {
      "image/png": "[encoded data removed]",
      "text/plain": [
       "<Figure size 432x288 with 1 Axes>"
      ]
     },
     "metadata": {
      "needs_background": "light"
     },
     "output_type": "display_data"
    }
   ],
   "source": [
    "plt.plot(P)\n",
    "plt.grid( alpha=0.75)"
   ]
  },
  {
   "cell_type": "code",
   "execution_count": 67,
   "metadata": {},
   "outputs": [
    {
     "data": {
      "image/png": "[encoded data removed]",
      "text/plain": [
       "<Figure size 432x288 with 1 Axes>"
      ]
     },
     "metadata": {
      "needs_background": "light"
     },
     "output_type": "display_data"
    }
   ],
   "source": [
    "N = 100000000\n",
    "X_1 = np.random.pareto(2, size=N)\n",
    "X_2 = np.random.pareto(2, size=N)\n",
    "hist, bin_edges = np.histogram(X_1+X_2,bins=1000, density = True)\n",
    "\n",
    "\n",
    "\n",
    "X_3 = np.random.pareto(2, size=N)\n",
    "hist_1, bin_edges_1 = np.histogram(X_3,bins=1000, density = True)\n",
    "\n",
    "\n",
    "\n",
    "\n",
    "\n",
    "Tfin = 2000\n",
    "\n",
    "P = np.zeros(Tfin)\n",
    "for t in range(1,Tfin,1):\n",
    "    P_Somme = calc_Prob(get_Int(bin_edges,t), hist, bin_edges)\n",
    "    P_X3 =  calc_Prob(get_Int(bin_edges_1,t), hist_1, bin_edges_1)\n",
    "    P[t] = P_Somme/P_X3\n",
    "    \n",
    "\n",
    "plt.plot(P)\n",
    "plt.grid( alpha=0.75)"
   ]
  },
  {
   "cell_type": "code",
   "execution_count": null,
   "metadata": {},
   "outputs": [],
   "source": []
  },
  {
   "cell_type": "markdown",
   "metadata": {},
   "source": [
    "# Loi log normale"
   ]
  },
  {
   "cell_type": "code",
   "execution_count": 94,
   "metadata": {},
   "outputs": [],
   "source": [
    "N = 1000000000\n",
    "X_1  = lognorm.rvs(scale=np.exp(0.7),s = 0.7, size=N)\n",
    "X_2 = lognorm.rvs(scale=np.exp(0.7),s = 0.7, size=N)\n",
    "hist, bin_edges = np.histogram(X_1+X_2,bins=150, density = True)\n",
    "\n",
    "X_6 =lognorm.rvs(scale=np.exp(0.7),s = 0.7, size=N)\n",
    "hist_1, bin_edges_1 = np.histogram(X_6,bins=150, density = True)\n",
    "\n",
    "\n"
   ]
  },
  {
   "cell_type": "code",
   "execution_count": 119,
   "metadata": {},
   "outputs": [
    {
     "data": {
      "image/png": "[encoded data removed]",
      "text/plain": [
       "<Figure size 432x288 with 1 Axes>"
      ]
     },
     "metadata": {
      "needs_background": "light"
     },
     "output_type": "display_data"
    }
   ],
   "source": [
    "Tfin = 90\n",
    "P = np.zeros(Tfin)\n",
    "for t in range(1,Tfin,1):\n",
    "    P_Somme = calc_Prob(get_Int(bin_edges,t), hist, bin_edges)\n",
    "    P_X3 =  calc_Prob(get_Int(bin_edges_1,t), hist_1, bin_edges_1)\n",
    "    P[t] = P_Somme/(P_X3)\n",
    "    \n",
    "\n",
    "plt.plot(P)\n",
    "plt.grid( alpha=0.75)"
   ]
  },
  {
   "cell_type": "code",
   "execution_count": null,
   "metadata": {},
   "outputs": [],
   "source": [
    "X_1  = lognorm.rvs(scale=np.exp(0.7869501),s = 0.7165545, size=N)"
   ]
  },
  {
   "cell_type": "code",
   "execution_count": 154,
   "metadata": {},
   "outputs": [],
   "source": [
    "u = 100\n",
    "c = 1.5\n",
    "lamb = 0.54\n",
    "def Psi(u,c,lamb,bin_edges_1,X_6,hist_1,N):\n",
    "    est_mean = np.sum(X_6)/N\n",
    "    integrale = 0 \n",
    "    rho = (lamb*est_mean)/c\n",
    "    for i in range(1,int(u)):\n",
    "        integrale = integrale +(calc_Prob(get_Int(bin_edges_1,i), hist_1, bin_edges_1))\n",
    "    F_I = (1/est_mean)*integrale\n",
    "    Psi_u = (F_I)*est_mean/((c/lamb)-rho)\n",
    "    return rho,Psi_u"
   ]
  },
  {
   "cell_type": "code",
   "execution_count": 140,
   "metadata": {},
   "outputs": [],
   "source": [
    "rho,Psi_u = Psi(u,c,lamb,bin_edges_1,X_6,hist_1,N)\n"
   ]
  },
  {
   "cell_type": "code",
   "execution_count": 189,
   "metadata": {},
   "outputs": [],
   "source": [
    "u = np.linspace(10, 100, 10 )\n",
    "c = np.linspace(1.1, 10, 100 )\n",
    "Res_Psi = np.zeros((10,10))\n",
    "Res_rho = np.zeros((10,10))"
   ]
  },
  {
   "cell_type": "code",
   "execution_count": 177,
   "metadata": {
    "scrolled": true
   },
   "outputs": [
    {
     "name": "stdout",
     "output_type": "stream",
     "text": [
      "i:0\n",
      "j:0\n",
      "i:0\n",
      "j:1\n",
      "i:0\n",
      "j:2\n",
      "i:0\n",
      "j:3\n",
      "i:0\n",
      "j:4\n",
      "i:0\n",
      "j:5\n",
      "i:0\n",
      "j:6\n",
      "i:0\n",
      "j:7\n",
      "i:0\n",
      "j:8\n",
      "i:0\n",
      "j:9\n",
      "i:1\n",
      "j:0\n",
      "i:1\n",
      "j:1\n",
      "i:1\n",
      "j:2\n",
      "i:1\n",
      "j:3\n",
      "i:1\n",
      "j:4\n",
      "i:1\n",
      "j:5\n",
      "i:1\n",
      "j:6\n",
      "i:1\n",
      "j:7\n",
      "i:1\n",
      "j:8\n",
      "i:1\n",
      "j:9\n",
      "i:2\n",
      "j:0\n",
      "i:2\n",
      "j:1\n",
      "i:2\n",
      "j:2\n",
      "i:2\n",
      "j:3\n",
      "i:2\n",
      "j:4\n",
      "i:2\n",
      "j:5\n",
      "i:2\n",
      "j:6\n",
      "i:2\n",
      "j:7\n",
      "i:2\n",
      "j:8\n",
      "i:2\n",
      "j:9\n",
      "i:3\n",
      "j:0\n",
      "i:3\n",
      "j:1\n",
      "i:3\n",
      "j:2\n",
      "i:3\n",
      "j:3\n",
      "i:3\n",
      "j:4\n",
      "i:3\n",
      "j:5\n",
      "i:3\n",
      "j:6\n",
      "i:3\n",
      "j:7\n",
      "i:3\n",
      "j:8\n",
      "i:3\n",
      "j:9\n",
      "i:4\n",
      "j:0\n",
      "i:4\n",
      "j:1\n",
      "i:4\n",
      "j:2\n",
      "i:4\n",
      "j:3\n",
      "i:4\n",
      "j:4\n",
      "i:4\n",
      "j:5\n",
      "i:4\n",
      "j:6\n",
      "i:4\n",
      "j:7\n",
      "i:4\n",
      "j:8\n",
      "i:4\n",
      "j:9\n",
      "i:5\n",
      "j:0\n",
      "i:5\n",
      "j:1\n",
      "i:5\n",
      "j:2\n",
      "i:5\n",
      "j:3\n",
      "i:5\n",
      "j:4\n",
      "i:5\n",
      "j:5\n",
      "i:5\n",
      "j:6\n",
      "i:5\n",
      "j:7\n",
      "i:5\n",
      "j:8\n",
      "i:5\n",
      "j:9\n",
      "i:6\n",
      "j:0\n",
      "i:6\n",
      "j:1\n",
      "i:6\n",
      "j:2\n",
      "i:6\n",
      "j:3\n",
      "i:6\n",
      "j:4\n",
      "i:6\n",
      "j:5\n",
      "i:6\n",
      "j:6\n",
      "i:6\n",
      "j:7\n",
      "i:6\n",
      "j:8\n",
      "i:6\n",
      "j:9\n",
      "i:7\n",
      "j:0\n",
      "i:7\n",
      "j:1\n",
      "i:7\n",
      "j:2\n",
      "i:7\n",
      "j:3\n",
      "i:7\n",
      "j:4\n",
      "i:7\n",
      "j:5\n",
      "i:7\n",
      "j:6\n",
      "i:7\n",
      "j:7\n",
      "i:7\n",
      "j:8\n",
      "i:7\n",
      "j:9\n",
      "i:8\n",
      "j:0\n",
      "i:8\n",
      "j:1\n",
      "i:8\n",
      "j:2\n",
      "i:8\n",
      "j:3\n",
      "i:8\n",
      "j:4\n",
      "i:8\n",
      "j:5\n",
      "i:8\n",
      "j:6\n",
      "i:8\n",
      "j:7\n",
      "i:8\n",
      "j:8\n",
      "i:8\n",
      "j:9\n",
      "i:9\n",
      "j:0\n",
      "i:9\n",
      "j:1\n",
      "i:9\n",
      "j:2\n",
      "i:9\n",
      "j:3\n",
      "i:9\n",
      "j:4\n",
      "i:9\n",
      "j:5\n",
      "i:9\n",
      "j:6\n",
      "i:9\n",
      "j:7\n",
      "i:9\n",
      "j:8\n",
      "i:9\n",
      "j:9\n"
     ]
    }
   ],
   "source": [
    "for i in range(0,10):\n",
    "    for j in range(0,10):\n",
    "        print(\"i:\"+str(i))\n",
    "        print(\"j:\"+str(j))\n",
    "        Res_Psi[i,j] = Psi(u[i],c[j],lamb,bin_edges_1,X_6,hist_1,N)[1]\n",
    "        Res_rho[i,j] = Psi(u[i],c[j],lamb,bin_edges_1,X_6,hist_1,N)[0]"
   ]
  },
  {
   "cell_type": "code",
   "execution_count": 193,
   "metadata": {},
   "outputs": [
    {
     "name": "stdout",
     "output_type": "stream",
     "text": [
      "j:0\n",
      "j:1\n",
      "j:2\n",
      "j:3\n",
      "j:4\n",
      "j:5\n",
      "j:6\n",
      "j:7\n",
      "j:8\n",
      "j:9\n",
      "j:10\n",
      "j:11\n",
      "j:12\n",
      "j:13\n",
      "j:14\n",
      "j:15\n",
      "j:16\n",
      "j:17\n",
      "j:18\n",
      "j:19\n",
      "j:20\n",
      "j:21\n",
      "j:22\n",
      "j:23\n",
      "j:24\n",
      "j:25\n",
      "j:26\n",
      "j:27\n",
      "j:28\n",
      "j:29\n",
      "j:30\n",
      "j:31\n",
      "j:32\n",
      "j:33\n",
      "j:34\n",
      "j:35\n",
      "j:36\n",
      "j:37\n",
      "j:38\n",
      "j:39\n",
      "j:40\n",
      "j:41\n",
      "j:42\n",
      "j:43\n",
      "j:44\n",
      "j:45\n",
      "j:46\n",
      "j:47\n",
      "j:48\n",
      "j:49\n",
      "j:50\n",
      "j:51\n",
      "j:52\n",
      "j:53\n",
      "j:54\n",
      "j:55\n",
      "j:56\n",
      "j:57\n",
      "j:58\n",
      "j:59\n",
      "j:60\n",
      "j:61\n",
      "j:62\n",
      "j:63\n",
      "j:64\n",
      "j:65\n",
      "j:66\n",
      "j:67\n",
      "j:68\n",
      "j:69\n",
      "j:70\n",
      "j:71\n",
      "j:72\n",
      "j:73\n",
      "j:74\n",
      "j:75\n",
      "j:76\n",
      "j:77\n",
      "j:78\n",
      "j:79\n",
      "j:80\n",
      "j:81\n",
      "j:82\n",
      "j:83\n",
      "j:84\n",
      "j:85\n",
      "j:86\n",
      "j:87\n",
      "j:88\n",
      "j:89\n",
      "j:90\n",
      "j:91\n",
      "j:92\n",
      "j:93\n",
      "j:94\n",
      "j:95\n",
      "j:96\n",
      "j:97\n",
      "j:98\n",
      "j:99\n"
     ]
    },
    {
     "data": {
      "image/png": "[encoded data removed]",
      "text/plain": [
       "<Figure size 432x288 with 1 Axes>"
      ]
     },
     "metadata": {
      "needs_background": "light"
     },
     "output_type": "display_data"
    }
   ],
   "source": [
    "Vect_Psi = np.zeros(100)\n",
    "Vect_Rho = np.zeros(100)\n",
    "for j in range(0,100):\n",
    "    print(\"j:\"+str(j))\n",
    "    Vect_Psi[j] = Psi(100,c[j],lamb,bin_edges_1,X_6,hist_1,N)[1]\n",
    "    Vect_Rho[j] = Psi(100,c[j],lamb,bin_edges_1,X_6,hist_1,N)[0]\n",
    "plt.plot(c,Vect_Psi,color='red')\n",
    "plt.plot(c,Vect_Rho)\n",
    "plt.title(\"Décroissance de la proba de ruine en fonction de la constante c\")\n",
    "plt.grid()\n",
    "plt.show()"
   ]
  },
  {
   "cell_type": "code",
   "execution_count": 181,
   "metadata": {},
   "outputs": [
    {
     "name": "stdout",
     "output_type": "stream",
     "text": [
      "0.2778696014364045\n",
      "0.147213834871129\n"
     ]
    }
   ],
   "source": [
    "rho,Psi_u = Psi(100,15,lamb,bin_edges_1,X_6,hist_1,N)\n",
    "print(rho)\n",
    "print(Psi_u)"
   ]
  },
  {
   "cell_type": "code",
   "execution_count": 178,
   "metadata": {},
   "outputs": [
    {
     "data": {
      "text/plain": [
       "<matplotlib.colorbar.Colorbar at 0x7fb547e260a0>"
      ]
     },
     "execution_count": 178,
     "metadata": {},
     "output_type": "execute_result"
    },
    {
     "data": {
      "image/png": "[encoded data removed]",
      "text/plain": [
       "<Figure size 432x288 with 2 Axes>"
      ]
     },
     "metadata": {
      "needs_background": "light"
     },
     "output_type": "display_data"
    }
   ],
   "source": [
    "plt.pcolormesh(u,c,Res_Psi, cmap='RdBu', vmin=0, vmax=1)\n",
    "plt.colorbar()"
   ]
  },
  {
   "cell_type": "code",
   "execution_count": null,
   "metadata": {},
   "outputs": [],
   "source": []
  }
 ],
 "metadata": {
  "kernelspec": {
   "display_name": "Python 3",
   "language": "python",
   "name": "python3"
  },
  "language_info": {
   "codemirror_mode": {
    "name": "ipython",
    "version": 3
   },
   "file_extension": ".py",
   "mimetype": "text/x-python",
   "name": "python",
   "nbconvert_exporter": "python",
   "pygments_lexer": "ipython3",
   "version": "3.7.6"
  }
 },
 "nbformat": 4,
 "nbformat_minor": 4
}
